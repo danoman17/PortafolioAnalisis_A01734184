{
  "nbformat": 4,
  "nbformat_minor": 0,
  "metadata": {
    "colab": {
      "provenance": []
    },
    "kernelspec": {
      "name": "python3",
      "display_name": "Python 3"
    },
    "language_info": {
      "name": "python"
    }
  },
  "cells": [
    {
      "cell_type": "markdown",
      "source": [
        "**Daniel Flores Rodríguez - A01734184**\n",
        "\n",
        "Módulo 5 Evaluación de un modelo y su aplicación para predicción"
      ],
      "metadata": {
        "id": "J6Cqoi4Fiat6"
      }
    },
    {
      "cell_type": "code",
      "execution_count": null,
      "metadata": {
        "id": "FzKgghY_iZcI"
      },
      "outputs": [],
      "source": [
        "# Se instala los paquetes y librerias necesarias para poder realizar el analizis de la situacion problema, utilizamos matplotlib para poder graficar\n",
        "# y visualisar nuestros dacumentos \n",
        "!pip install matplotlib\n",
        "# se usa pandas para el manejo y vizualizacion de datos de matrices\n",
        "!pip install pandas\n",
        "#usada para poder leer los dataframes\n",
        "!pip install pandas_datareader\n",
        "\n",
        "#importamos librerias\n",
        "import pandas as pd\n",
        "import matplotlib\n",
        "import matplotlib.pyplot as plt\n",
        "import numpy as np\n",
        "\n",
        "\n",
        "\n",
        "\n",
        "#importamos nuestro archivo csv\n",
        "from google.colab import drive\n",
        "drive.mount(\"/content/gdrive\")\n",
        "%cd \"/content/gdrive/MyDrive/ITESM/Septimo Semestre/DeepLearning/Bloque2\"\n",
        "%ls"
      ]
    },
    {
      "cell_type": "code",
      "source": [
        "# importamos archivo csv de nombres de las firmas que contienen las firmas, con informacion relevante de cada una de estas.\n",
        "#calculamos columnas de dataframe\n",
        "col = pd.read_csv('Indicadores20221007105052.csv').columns\n",
        "data = pd.read_csv('Indicadores20221007105052.csv',names = col)\n",
        "\n",
        "#limpiamos el df\n",
        "data.drop(index=data.index[0], axis = 0, inplace = True)\n",
        "data # se imprime el dataset, para ver si es el correcto"
      ],
      "metadata": {
        "colab": {
          "base_uri": "https://localhost:8080/",
          "height": 832
        },
        "id": "JE03qIpKPDhC",
        "outputId": "c8e181cf-a6db-4273-883f-0ff13500591a"
      },
      "execution_count": 75,
      "outputs": [
        {
          "output_type": "execute_result",
          "data": {
            "text/plain": [
              "      Indicador                                   Nombre Indicador  \\\n",
              "1    6207061409  IGAE. Índice de volumen físico base 2013=100. ...   \n",
              "2    6207061409  IGAE. Índice de volumen físico base 2013=100. ...   \n",
              "3    6207061409  IGAE. Índice de volumen físico base 2013=100. ...   \n",
              "4    6207061409  IGAE. Índice de volumen físico base 2013=100. ...   \n",
              "5    6207061409  IGAE. Índice de volumen físico base 2013=100. ...   \n",
              "..          ...                                                ...   \n",
              "351  6207061409  IGAE. Índice de volumen físico base 2013=100. ...   \n",
              "352  6207061409  IGAE. Índice de volumen físico base 2013=100. ...   \n",
              "353  6207061409  IGAE. Índice de volumen físico base 2013=100. ...   \n",
              "354  6207061409  IGAE. Índice de volumen físico base 2013=100. ...   \n",
              "355  6207061409  IGAE. Índice de volumen físico base 2013=100. ...   \n",
              "\n",
              "    Clave área geográfica                   Entidad                 Municipio  \\\n",
              "1                    0700  Estados Unidos Mexicanos  Estados Unidos Mexicanos   \n",
              "2                    0700  Estados Unidos Mexicanos  Estados Unidos Mexicanos   \n",
              "3                    0700  Estados Unidos Mexicanos  Estados Unidos Mexicanos   \n",
              "4                    0700  Estados Unidos Mexicanos  Estados Unidos Mexicanos   \n",
              "5                    0700  Estados Unidos Mexicanos  Estados Unidos Mexicanos   \n",
              "..                    ...                       ...                       ...   \n",
              "351                  0700  Estados Unidos Mexicanos  Estados Unidos Mexicanos   \n",
              "352                  0700  Estados Unidos Mexicanos  Estados Unidos Mexicanos   \n",
              "353                  0700  Estados Unidos Mexicanos  Estados Unidos Mexicanos   \n",
              "354                  0700  Estados Unidos Mexicanos  Estados Unidos Mexicanos   \n",
              "355                  0700  Estados Unidos Mexicanos  Estados Unidos Mexicanos   \n",
              "\n",
              "     Periodo        Valor Excepción                        Unidad de medida  \\\n",
              "1    2022/07  111.2745518       NaN  Índice de volumen físico base 2013=100   \n",
              "2    2022/06  112.7975011       NaN  Índice de volumen físico base 2013=100   \n",
              "3    2022/05  114.4424238       NaN  Índice de volumen físico base 2013=100   \n",
              "4    2022/04  109.5298659       NaN  Índice de volumen físico base 2013=100   \n",
              "5    2022/03  111.9401523       NaN  Índice de volumen físico base 2013=100   \n",
              "..       ...          ...       ...                                     ...   \n",
              "351  1993/05  63.61289973       NaN  Índice de volumen físico base 2013=100   \n",
              "352  1993/04  61.86598396       NaN  Índice de volumen físico base 2013=100   \n",
              "353  1993/03  63.94324936       NaN  Índice de volumen físico base 2013=100   \n",
              "354  1993/02  61.02252106       NaN  Índice de volumen físico base 2013=100   \n",
              "355  1993/01  60.40769086       NaN  Índice de volumen físico base 2013=100   \n",
              "\n",
              "    Frecuencia Information Status     Referencias  \n",
              "1      Mensual                NaN  /a  /f1  /r1    \n",
              "2      Mensual                NaN  /a  /f1  /r1    \n",
              "3      Mensual                NaN  /a  /f1  /r1    \n",
              "4      Mensual                NaN  /a  /f1  /r1    \n",
              "5      Mensual                NaN  /a  /f1  /r1    \n",
              "..         ...                ...             ...  \n",
              "351    Mensual                NaN  /a  /f1  /r1    \n",
              "352    Mensual                NaN  /a  /f1  /r1    \n",
              "353    Mensual                NaN  /a  /f1  /r1    \n",
              "354    Mensual                NaN  /a  /f1  /r1    \n",
              "355    Mensual                NaN  /a  /f1  /r1    \n",
              "\n",
              "[355 rows x 12 columns]"
            ],
            "text/html": [
              "\n",
              "  <div id=\"df-f3ceeb68-7f2b-4f65-ab03-b0b5de3638ce\">\n",
              "    <div class=\"colab-df-container\">\n",
              "      <div>\n",
              "<style scoped>\n",
              "    .dataframe tbody tr th:only-of-type {\n",
              "        vertical-align: middle;\n",
              "    }\n",
              "\n",
              "    .dataframe tbody tr th {\n",
              "        vertical-align: top;\n",
              "    }\n",
              "\n",
              "    .dataframe thead th {\n",
              "        text-align: right;\n",
              "    }\n",
              "</style>\n",
              "<table border=\"1\" class=\"dataframe\">\n",
              "  <thead>\n",
              "    <tr style=\"text-align: right;\">\n",
              "      <th></th>\n",
              "      <th>Indicador</th>\n",
              "      <th>Nombre Indicador</th>\n",
              "      <th>Clave área geográfica</th>\n",
              "      <th>Entidad</th>\n",
              "      <th>Municipio</th>\n",
              "      <th>Periodo</th>\n",
              "      <th>Valor</th>\n",
              "      <th>Excepción</th>\n",
              "      <th>Unidad de medida</th>\n",
              "      <th>Frecuencia</th>\n",
              "      <th>Information Status</th>\n",
              "      <th>Referencias</th>\n",
              "    </tr>\n",
              "  </thead>\n",
              "  <tbody>\n",
              "    <tr>\n",
              "      <th>1</th>\n",
              "      <td>6207061409</td>\n",
              "      <td>IGAE. Índice de volumen físico base 2013=100. ...</td>\n",
              "      <td>0700</td>\n",
              "      <td>Estados Unidos Mexicanos</td>\n",
              "      <td>Estados Unidos Mexicanos</td>\n",
              "      <td>2022/07</td>\n",
              "      <td>111.2745518</td>\n",
              "      <td>NaN</td>\n",
              "      <td>Índice de volumen físico base 2013=100</td>\n",
              "      <td>Mensual</td>\n",
              "      <td>NaN</td>\n",
              "      <td>/a  /f1  /r1</td>\n",
              "    </tr>\n",
              "    <tr>\n",
              "      <th>2</th>\n",
              "      <td>6207061409</td>\n",
              "      <td>IGAE. Índice de volumen físico base 2013=100. ...</td>\n",
              "      <td>0700</td>\n",
              "      <td>Estados Unidos Mexicanos</td>\n",
              "      <td>Estados Unidos Mexicanos</td>\n",
              "      <td>2022/06</td>\n",
              "      <td>112.7975011</td>\n",
              "      <td>NaN</td>\n",
              "      <td>Índice de volumen físico base 2013=100</td>\n",
              "      <td>Mensual</td>\n",
              "      <td>NaN</td>\n",
              "      <td>/a  /f1  /r1</td>\n",
              "    </tr>\n",
              "    <tr>\n",
              "      <th>3</th>\n",
              "      <td>6207061409</td>\n",
              "      <td>IGAE. Índice de volumen físico base 2013=100. ...</td>\n",
              "      <td>0700</td>\n",
              "      <td>Estados Unidos Mexicanos</td>\n",
              "      <td>Estados Unidos Mexicanos</td>\n",
              "      <td>2022/05</td>\n",
              "      <td>114.4424238</td>\n",
              "      <td>NaN</td>\n",
              "      <td>Índice de volumen físico base 2013=100</td>\n",
              "      <td>Mensual</td>\n",
              "      <td>NaN</td>\n",
              "      <td>/a  /f1  /r1</td>\n",
              "    </tr>\n",
              "    <tr>\n",
              "      <th>4</th>\n",
              "      <td>6207061409</td>\n",
              "      <td>IGAE. Índice de volumen físico base 2013=100. ...</td>\n",
              "      <td>0700</td>\n",
              "      <td>Estados Unidos Mexicanos</td>\n",
              "      <td>Estados Unidos Mexicanos</td>\n",
              "      <td>2022/04</td>\n",
              "      <td>109.5298659</td>\n",
              "      <td>NaN</td>\n",
              "      <td>Índice de volumen físico base 2013=100</td>\n",
              "      <td>Mensual</td>\n",
              "      <td>NaN</td>\n",
              "      <td>/a  /f1  /r1</td>\n",
              "    </tr>\n",
              "    <tr>\n",
              "      <th>5</th>\n",
              "      <td>6207061409</td>\n",
              "      <td>IGAE. Índice de volumen físico base 2013=100. ...</td>\n",
              "      <td>0700</td>\n",
              "      <td>Estados Unidos Mexicanos</td>\n",
              "      <td>Estados Unidos Mexicanos</td>\n",
              "      <td>2022/03</td>\n",
              "      <td>111.9401523</td>\n",
              "      <td>NaN</td>\n",
              "      <td>Índice de volumen físico base 2013=100</td>\n",
              "      <td>Mensual</td>\n",
              "      <td>NaN</td>\n",
              "      <td>/a  /f1  /r1</td>\n",
              "    </tr>\n",
              "    <tr>\n",
              "      <th>...</th>\n",
              "      <td>...</td>\n",
              "      <td>...</td>\n",
              "      <td>...</td>\n",
              "      <td>...</td>\n",
              "      <td>...</td>\n",
              "      <td>...</td>\n",
              "      <td>...</td>\n",
              "      <td>...</td>\n",
              "      <td>...</td>\n",
              "      <td>...</td>\n",
              "      <td>...</td>\n",
              "      <td>...</td>\n",
              "    </tr>\n",
              "    <tr>\n",
              "      <th>351</th>\n",
              "      <td>6207061409</td>\n",
              "      <td>IGAE. Índice de volumen físico base 2013=100. ...</td>\n",
              "      <td>0700</td>\n",
              "      <td>Estados Unidos Mexicanos</td>\n",
              "      <td>Estados Unidos Mexicanos</td>\n",
              "      <td>1993/05</td>\n",
              "      <td>63.61289973</td>\n",
              "      <td>NaN</td>\n",
              "      <td>Índice de volumen físico base 2013=100</td>\n",
              "      <td>Mensual</td>\n",
              "      <td>NaN</td>\n",
              "      <td>/a  /f1  /r1</td>\n",
              "    </tr>\n",
              "    <tr>\n",
              "      <th>352</th>\n",
              "      <td>6207061409</td>\n",
              "      <td>IGAE. Índice de volumen físico base 2013=100. ...</td>\n",
              "      <td>0700</td>\n",
              "      <td>Estados Unidos Mexicanos</td>\n",
              "      <td>Estados Unidos Mexicanos</td>\n",
              "      <td>1993/04</td>\n",
              "      <td>61.86598396</td>\n",
              "      <td>NaN</td>\n",
              "      <td>Índice de volumen físico base 2013=100</td>\n",
              "      <td>Mensual</td>\n",
              "      <td>NaN</td>\n",
              "      <td>/a  /f1  /r1</td>\n",
              "    </tr>\n",
              "    <tr>\n",
              "      <th>353</th>\n",
              "      <td>6207061409</td>\n",
              "      <td>IGAE. Índice de volumen físico base 2013=100. ...</td>\n",
              "      <td>0700</td>\n",
              "      <td>Estados Unidos Mexicanos</td>\n",
              "      <td>Estados Unidos Mexicanos</td>\n",
              "      <td>1993/03</td>\n",
              "      <td>63.94324936</td>\n",
              "      <td>NaN</td>\n",
              "      <td>Índice de volumen físico base 2013=100</td>\n",
              "      <td>Mensual</td>\n",
              "      <td>NaN</td>\n",
              "      <td>/a  /f1  /r1</td>\n",
              "    </tr>\n",
              "    <tr>\n",
              "      <th>354</th>\n",
              "      <td>6207061409</td>\n",
              "      <td>IGAE. Índice de volumen físico base 2013=100. ...</td>\n",
              "      <td>0700</td>\n",
              "      <td>Estados Unidos Mexicanos</td>\n",
              "      <td>Estados Unidos Mexicanos</td>\n",
              "      <td>1993/02</td>\n",
              "      <td>61.02252106</td>\n",
              "      <td>NaN</td>\n",
              "      <td>Índice de volumen físico base 2013=100</td>\n",
              "      <td>Mensual</td>\n",
              "      <td>NaN</td>\n",
              "      <td>/a  /f1  /r1</td>\n",
              "    </tr>\n",
              "    <tr>\n",
              "      <th>355</th>\n",
              "      <td>6207061409</td>\n",
              "      <td>IGAE. Índice de volumen físico base 2013=100. ...</td>\n",
              "      <td>0700</td>\n",
              "      <td>Estados Unidos Mexicanos</td>\n",
              "      <td>Estados Unidos Mexicanos</td>\n",
              "      <td>1993/01</td>\n",
              "      <td>60.40769086</td>\n",
              "      <td>NaN</td>\n",
              "      <td>Índice de volumen físico base 2013=100</td>\n",
              "      <td>Mensual</td>\n",
              "      <td>NaN</td>\n",
              "      <td>/a  /f1  /r1</td>\n",
              "    </tr>\n",
              "  </tbody>\n",
              "</table>\n",
              "<p>355 rows × 12 columns</p>\n",
              "</div>\n",
              "      <button class=\"colab-df-convert\" onclick=\"convertToInteractive('df-f3ceeb68-7f2b-4f65-ab03-b0b5de3638ce')\"\n",
              "              title=\"Convert this dataframe to an interactive table.\"\n",
              "              style=\"display:none;\">\n",
              "        \n",
              "  <svg xmlns=\"http://www.w3.org/2000/svg\" height=\"24px\"viewBox=\"0 0 24 24\"\n",
              "       width=\"24px\">\n",
              "    <path d=\"M0 0h24v24H0V0z\" fill=\"none\"/>\n",
              "    <path d=\"M18.56 5.44l.94 2.06.94-2.06 2.06-.94-2.06-.94-.94-2.06-.94 2.06-2.06.94zm-11 1L8.5 8.5l.94-2.06 2.06-.94-2.06-.94L8.5 2.5l-.94 2.06-2.06.94zm10 10l.94 2.06.94-2.06 2.06-.94-2.06-.94-.94-2.06-.94 2.06-2.06.94z\"/><path d=\"M17.41 7.96l-1.37-1.37c-.4-.4-.92-.59-1.43-.59-.52 0-1.04.2-1.43.59L10.3 9.45l-7.72 7.72c-.78.78-.78 2.05 0 2.83L4 21.41c.39.39.9.59 1.41.59.51 0 1.02-.2 1.41-.59l7.78-7.78 2.81-2.81c.8-.78.8-2.07 0-2.86zM5.41 20L4 18.59l7.72-7.72 1.47 1.35L5.41 20z\"/>\n",
              "  </svg>\n",
              "      </button>\n",
              "      \n",
              "  <style>\n",
              "    .colab-df-container {\n",
              "      display:flex;\n",
              "      flex-wrap:wrap;\n",
              "      gap: 12px;\n",
              "    }\n",
              "\n",
              "    .colab-df-convert {\n",
              "      background-color: #E8F0FE;\n",
              "      border: none;\n",
              "      border-radius: 50%;\n",
              "      cursor: pointer;\n",
              "      display: none;\n",
              "      fill: #1967D2;\n",
              "      height: 32px;\n",
              "      padding: 0 0 0 0;\n",
              "      width: 32px;\n",
              "    }\n",
              "\n",
              "    .colab-df-convert:hover {\n",
              "      background-color: #E2EBFA;\n",
              "      box-shadow: 0px 1px 2px rgba(60, 64, 67, 0.3), 0px 1px 3px 1px rgba(60, 64, 67, 0.15);\n",
              "      fill: #174EA6;\n",
              "    }\n",
              "\n",
              "    [theme=dark] .colab-df-convert {\n",
              "      background-color: #3B4455;\n",
              "      fill: #D2E3FC;\n",
              "    }\n",
              "\n",
              "    [theme=dark] .colab-df-convert:hover {\n",
              "      background-color: #434B5C;\n",
              "      box-shadow: 0px 1px 3px 1px rgba(0, 0, 0, 0.15);\n",
              "      filter: drop-shadow(0px 1px 2px rgba(0, 0, 0, 0.3));\n",
              "      fill: #FFFFFF;\n",
              "    }\n",
              "  </style>\n",
              "\n",
              "      <script>\n",
              "        const buttonEl =\n",
              "          document.querySelector('#df-f3ceeb68-7f2b-4f65-ab03-b0b5de3638ce button.colab-df-convert');\n",
              "        buttonEl.style.display =\n",
              "          google.colab.kernel.accessAllowed ? 'block' : 'none';\n",
              "\n",
              "        async function convertToInteractive(key) {\n",
              "          const element = document.querySelector('#df-f3ceeb68-7f2b-4f65-ab03-b0b5de3638ce');\n",
              "          const dataTable =\n",
              "            await google.colab.kernel.invokeFunction('convertToInteractive',\n",
              "                                                     [key], {});\n",
              "          if (!dataTable) return;\n",
              "\n",
              "          const docLinkHtml = 'Like what you see? Visit the ' +\n",
              "            '<a target=\"_blank\" href=https://colab.research.google.com/notebooks/data_table.ipynb>data table notebook</a>'\n",
              "            + ' to learn more about interactive tables.';\n",
              "          element.innerHTML = '';\n",
              "          dataTable['output_type'] = 'display_data';\n",
              "          await google.colab.output.renderOutput(dataTable, element);\n",
              "          const docLink = document.createElement('div');\n",
              "          docLink.innerHTML = docLinkHtml;\n",
              "          element.appendChild(docLink);\n",
              "        }\n",
              "      </script>\n",
              "    </div>\n",
              "  </div>\n",
              "  "
            ]
          },
          "metadata": {},
          "execution_count": 75
        }
      ]
    },
    {
      "cell_type": "code",
      "source": [
        "#se transforma el periodos a un tipo de fecha de tal manera que podamos leer facilmente esta y tambien manipularla.\n",
        "data['Periodo'] = pd.to_datetime(data['Periodo'], infer_datetime_format = True)\n",
        "data['Periodo']"
      ],
      "metadata": {
        "colab": {
          "base_uri": "https://localhost:8080/"
        },
        "id": "EHqO9ZZElOi3",
        "outputId": "ad33e014-3c6e-40ca-82a0-aa7c91e1f85a"
      },
      "execution_count": 76,
      "outputs": [
        {
          "output_type": "execute_result",
          "data": {
            "text/plain": [
              "1     2022-07-01\n",
              "2     2022-06-01\n",
              "3     2022-05-01\n",
              "4     2022-04-01\n",
              "5     2022-03-01\n",
              "         ...    \n",
              "351   1993-05-01\n",
              "352   1993-04-01\n",
              "353   1993-03-01\n",
              "354   1993-02-01\n",
              "355   1993-01-01\n",
              "Name: Periodo, Length: 355, dtype: datetime64[ns]"
            ]
          },
          "metadata": {},
          "execution_count": 76
        }
      ]
    },
    {
      "cell_type": "code",
      "source": [
        "#convertimos a flotante y nos aseguramos de que podamos acceder y manipular estas variables.\n",
        "data['Valor'] = data['Valor'].astype(float)\n",
        "data['Valor']"
      ],
      "metadata": {
        "colab": {
          "base_uri": "https://localhost:8080/"
        },
        "id": "sQFDnIn1mS_4",
        "outputId": "7eff4891-ba64-434b-a3b6-e9d564aba2fa"
      },
      "execution_count": 77,
      "outputs": [
        {
          "output_type": "execute_result",
          "data": {
            "text/plain": [
              "1      111.274552\n",
              "2      112.797501\n",
              "3      114.442424\n",
              "4      109.529866\n",
              "5      111.940152\n",
              "          ...    \n",
              "351     63.612900\n",
              "352     61.865984\n",
              "353     63.943249\n",
              "354     61.022521\n",
              "355     60.407691\n",
              "Name: Valor, Length: 355, dtype: float64"
            ]
          },
          "metadata": {},
          "execution_count": 77
        }
      ]
    },
    {
      "cell_type": "markdown",
      "source": [
        "Procedemos a realizar transformaciones de variable de valor para poder realizar un mejor manejo de la información y asegurarnos que los valores sean numeros con los que podamos trabajar, asi mismo se realiza un cambio de la variable de Periodo, para poder manejar fechas en formato YYYY-MM--DD y así poder trabajar con plots y graficas de manera mas intuitiva y fácil, asi mismo, se aprovecha para crear el data set que vamos a usar para realziar nuestras predicciones, se calculan dos variables nuevas, el valor en log y un cambioAnual del log mencionado anteriormente, esto lo podemos lograr a traves de diff(12)."
      ],
      "metadata": {
        "id": "D51v_cvHu8wN"
      }
    },
    {
      "cell_type": "code",
      "source": [
        "df_indicadores = data[['Periodo', 'Valor']]\n",
        "df_indicadores['Valor (log)'] = np.log(df_indicadores['Valor'])\n",
        "df_indicadores['CambioAnual'] = np.log(df_indicadores['Valor']).diff(12)\n",
        "df_indicadores = df_indicadores.dropna()\n",
        "\n",
        "#se imprime el df nuevo\n",
        "df_indicadores"
      ],
      "metadata": {
        "colab": {
          "base_uri": "https://localhost:8080/",
          "height": 638
        },
        "id": "6XNtB8DWmwcC",
        "outputId": "f6bb3130-2297-4fed-cb39-dd4904038eb4"
      },
      "execution_count": 78,
      "outputs": [
        {
          "output_type": "stream",
          "name": "stderr",
          "text": [
            "/usr/local/lib/python3.7/dist-packages/ipykernel_launcher.py:2: SettingWithCopyWarning: \n",
            "A value is trying to be set on a copy of a slice from a DataFrame.\n",
            "Try using .loc[row_indexer,col_indexer] = value instead\n",
            "\n",
            "See the caveats in the documentation: https://pandas.pydata.org/pandas-docs/stable/user_guide/indexing.html#returning-a-view-versus-a-copy\n",
            "  \n",
            "/usr/local/lib/python3.7/dist-packages/ipykernel_launcher.py:3: SettingWithCopyWarning: \n",
            "A value is trying to be set on a copy of a slice from a DataFrame.\n",
            "Try using .loc[row_indexer,col_indexer] = value instead\n",
            "\n",
            "See the caveats in the documentation: https://pandas.pydata.org/pandas-docs/stable/user_guide/indexing.html#returning-a-view-versus-a-copy\n",
            "  This is separate from the ipykernel package so we can avoid doing imports until\n"
          ]
        },
        {
          "output_type": "execute_result",
          "data": {
            "text/plain": [
              "       Periodo       Valor  Valor (log)  CambioAnual\n",
              "13  2021-07-01  109.877851     4.699369    -0.012631\n",
              "14  2021-06-01  111.171275     4.711072    -0.014522\n",
              "15  2021-05-01  112.064049     4.719071    -0.021001\n",
              "16  2021-04-01  108.070442     4.682783    -0.013414\n",
              "17  2021-03-01  111.531140     4.714304    -0.003661\n",
              "..         ...         ...          ...          ...\n",
              "351 1993-05-01   63.612900     4.152816    -0.049767\n",
              "352 1993-04-01   61.865984     4.124970    -0.063042\n",
              "353 1993-03-01   63.943249     4.157996    -0.028476\n",
              "354 1993-02-01   61.022521     4.111243    -0.027647\n",
              "355 1993-01-01   60.407691     4.101116    -0.042483\n",
              "\n",
              "[343 rows x 4 columns]"
            ],
            "text/html": [
              "\n",
              "  <div id=\"df-f1da0771-6448-4421-8c68-8d474efe1584\">\n",
              "    <div class=\"colab-df-container\">\n",
              "      <div>\n",
              "<style scoped>\n",
              "    .dataframe tbody tr th:only-of-type {\n",
              "        vertical-align: middle;\n",
              "    }\n",
              "\n",
              "    .dataframe tbody tr th {\n",
              "        vertical-align: top;\n",
              "    }\n",
              "\n",
              "    .dataframe thead th {\n",
              "        text-align: right;\n",
              "    }\n",
              "</style>\n",
              "<table border=\"1\" class=\"dataframe\">\n",
              "  <thead>\n",
              "    <tr style=\"text-align: right;\">\n",
              "      <th></th>\n",
              "      <th>Periodo</th>\n",
              "      <th>Valor</th>\n",
              "      <th>Valor (log)</th>\n",
              "      <th>CambioAnual</th>\n",
              "    </tr>\n",
              "  </thead>\n",
              "  <tbody>\n",
              "    <tr>\n",
              "      <th>13</th>\n",
              "      <td>2021-07-01</td>\n",
              "      <td>109.877851</td>\n",
              "      <td>4.699369</td>\n",
              "      <td>-0.012631</td>\n",
              "    </tr>\n",
              "    <tr>\n",
              "      <th>14</th>\n",
              "      <td>2021-06-01</td>\n",
              "      <td>111.171275</td>\n",
              "      <td>4.711072</td>\n",
              "      <td>-0.014522</td>\n",
              "    </tr>\n",
              "    <tr>\n",
              "      <th>15</th>\n",
              "      <td>2021-05-01</td>\n",
              "      <td>112.064049</td>\n",
              "      <td>4.719071</td>\n",
              "      <td>-0.021001</td>\n",
              "    </tr>\n",
              "    <tr>\n",
              "      <th>16</th>\n",
              "      <td>2021-04-01</td>\n",
              "      <td>108.070442</td>\n",
              "      <td>4.682783</td>\n",
              "      <td>-0.013414</td>\n",
              "    </tr>\n",
              "    <tr>\n",
              "      <th>17</th>\n",
              "      <td>2021-03-01</td>\n",
              "      <td>111.531140</td>\n",
              "      <td>4.714304</td>\n",
              "      <td>-0.003661</td>\n",
              "    </tr>\n",
              "    <tr>\n",
              "      <th>...</th>\n",
              "      <td>...</td>\n",
              "      <td>...</td>\n",
              "      <td>...</td>\n",
              "      <td>...</td>\n",
              "    </tr>\n",
              "    <tr>\n",
              "      <th>351</th>\n",
              "      <td>1993-05-01</td>\n",
              "      <td>63.612900</td>\n",
              "      <td>4.152816</td>\n",
              "      <td>-0.049767</td>\n",
              "    </tr>\n",
              "    <tr>\n",
              "      <th>352</th>\n",
              "      <td>1993-04-01</td>\n",
              "      <td>61.865984</td>\n",
              "      <td>4.124970</td>\n",
              "      <td>-0.063042</td>\n",
              "    </tr>\n",
              "    <tr>\n",
              "      <th>353</th>\n",
              "      <td>1993-03-01</td>\n",
              "      <td>63.943249</td>\n",
              "      <td>4.157996</td>\n",
              "      <td>-0.028476</td>\n",
              "    </tr>\n",
              "    <tr>\n",
              "      <th>354</th>\n",
              "      <td>1993-02-01</td>\n",
              "      <td>61.022521</td>\n",
              "      <td>4.111243</td>\n",
              "      <td>-0.027647</td>\n",
              "    </tr>\n",
              "    <tr>\n",
              "      <th>355</th>\n",
              "      <td>1993-01-01</td>\n",
              "      <td>60.407691</td>\n",
              "      <td>4.101116</td>\n",
              "      <td>-0.042483</td>\n",
              "    </tr>\n",
              "  </tbody>\n",
              "</table>\n",
              "<p>343 rows × 4 columns</p>\n",
              "</div>\n",
              "      <button class=\"colab-df-convert\" onclick=\"convertToInteractive('df-f1da0771-6448-4421-8c68-8d474efe1584')\"\n",
              "              title=\"Convert this dataframe to an interactive table.\"\n",
              "              style=\"display:none;\">\n",
              "        \n",
              "  <svg xmlns=\"http://www.w3.org/2000/svg\" height=\"24px\"viewBox=\"0 0 24 24\"\n",
              "       width=\"24px\">\n",
              "    <path d=\"M0 0h24v24H0V0z\" fill=\"none\"/>\n",
              "    <path d=\"M18.56 5.44l.94 2.06.94-2.06 2.06-.94-2.06-.94-.94-2.06-.94 2.06-2.06.94zm-11 1L8.5 8.5l.94-2.06 2.06-.94-2.06-.94L8.5 2.5l-.94 2.06-2.06.94zm10 10l.94 2.06.94-2.06 2.06-.94-2.06-.94-.94-2.06-.94 2.06-2.06.94z\"/><path d=\"M17.41 7.96l-1.37-1.37c-.4-.4-.92-.59-1.43-.59-.52 0-1.04.2-1.43.59L10.3 9.45l-7.72 7.72c-.78.78-.78 2.05 0 2.83L4 21.41c.39.39.9.59 1.41.59.51 0 1.02-.2 1.41-.59l7.78-7.78 2.81-2.81c.8-.78.8-2.07 0-2.86zM5.41 20L4 18.59l7.72-7.72 1.47 1.35L5.41 20z\"/>\n",
              "  </svg>\n",
              "      </button>\n",
              "      \n",
              "  <style>\n",
              "    .colab-df-container {\n",
              "      display:flex;\n",
              "      flex-wrap:wrap;\n",
              "      gap: 12px;\n",
              "    }\n",
              "\n",
              "    .colab-df-convert {\n",
              "      background-color: #E8F0FE;\n",
              "      border: none;\n",
              "      border-radius: 50%;\n",
              "      cursor: pointer;\n",
              "      display: none;\n",
              "      fill: #1967D2;\n",
              "      height: 32px;\n",
              "      padding: 0 0 0 0;\n",
              "      width: 32px;\n",
              "    }\n",
              "\n",
              "    .colab-df-convert:hover {\n",
              "      background-color: #E2EBFA;\n",
              "      box-shadow: 0px 1px 2px rgba(60, 64, 67, 0.3), 0px 1px 3px 1px rgba(60, 64, 67, 0.15);\n",
              "      fill: #174EA6;\n",
              "    }\n",
              "\n",
              "    [theme=dark] .colab-df-convert {\n",
              "      background-color: #3B4455;\n",
              "      fill: #D2E3FC;\n",
              "    }\n",
              "\n",
              "    [theme=dark] .colab-df-convert:hover {\n",
              "      background-color: #434B5C;\n",
              "      box-shadow: 0px 1px 3px 1px rgba(0, 0, 0, 0.15);\n",
              "      filter: drop-shadow(0px 1px 2px rgba(0, 0, 0, 0.3));\n",
              "      fill: #FFFFFF;\n",
              "    }\n",
              "  </style>\n",
              "\n",
              "      <script>\n",
              "        const buttonEl =\n",
              "          document.querySelector('#df-f1da0771-6448-4421-8c68-8d474efe1584 button.colab-df-convert');\n",
              "        buttonEl.style.display =\n",
              "          google.colab.kernel.accessAllowed ? 'block' : 'none';\n",
              "\n",
              "        async function convertToInteractive(key) {\n",
              "          const element = document.querySelector('#df-f1da0771-6448-4421-8c68-8d474efe1584');\n",
              "          const dataTable =\n",
              "            await google.colab.kernel.invokeFunction('convertToInteractive',\n",
              "                                                     [key], {});\n",
              "          if (!dataTable) return;\n",
              "\n",
              "          const docLinkHtml = 'Like what you see? Visit the ' +\n",
              "            '<a target=\"_blank\" href=https://colab.research.google.com/notebooks/data_table.ipynb>data table notebook</a>'\n",
              "            + ' to learn more about interactive tables.';\n",
              "          element.innerHTML = '';\n",
              "          dataTable['output_type'] = 'display_data';\n",
              "          await google.colab.output.renderOutput(dataTable, element);\n",
              "          const docLink = document.createElement('div');\n",
              "          docLink.innerHTML = docLinkHtml;\n",
              "          element.appendChild(docLink);\n",
              "        }\n",
              "      </script>\n",
              "    </div>\n",
              "  </div>\n",
              "  "
            ]
          },
          "metadata": {},
          "execution_count": 78
        }
      ]
    },
    {
      "cell_type": "markdown",
      "source": [
        "Tras haber realizado una pequeña limpieza de datos y extracción de aquellos datos quenos interesan para este analisis, procedo a realziar las pruebas que se solicitan, y así poder decidir la tranformacion de la variable."
      ],
      "metadata": {
        "id": "b4M0QuMhycVC"
      }
    },
    {
      "cell_type": "markdown",
      "source": [
        "# **1- Realizar pruebas estadísticas de estacionariedad y decide el tipo de transformación de la variable**"
      ],
      "metadata": {
        "id": "4kvu-m5Iizj-"
      }
    },
    {
      "cell_type": "markdown",
      "source": [
        "Debido a que necesitaremos que lso valores de la variable esten acomodados de forma ascendente, tendremos que cambiar dicho orden"
      ],
      "metadata": {
        "id": "dWIoIScQxdtY"
      }
    },
    {
      "cell_type": "code",
      "source": [
        "#asignamos como index del dataframe las fechas de la variable periodo\n",
        "df_indicadores.set_index(['Periodo'], inplace=True)\n",
        "df_indicadores = df_indicadores.sort_index(axis = 0, ascending = True)"
      ],
      "metadata": {
        "id": "8mcaNCwZlpUR"
      },
      "execution_count": 79,
      "outputs": []
    },
    {
      "cell_type": "code",
      "source": [
        "#imprimimos el valor del nuevo dataset.\n",
        "\n",
        "df_indicadores"
      ],
      "metadata": {
        "colab": {
          "base_uri": "https://localhost:8080/",
          "height": 455
        },
        "id": "kig6aANphntr",
        "outputId": "d68980b5-0ee2-42f2-9d96-3f7a82e59181"
      },
      "execution_count": 80,
      "outputs": [
        {
          "output_type": "execute_result",
          "data": {
            "text/plain": [
              "                 Valor  Valor (log)  CambioAnual\n",
              "Periodo                                         \n",
              "1993-01-01   60.407691     4.101116    -0.042483\n",
              "1993-02-01   61.022521     4.111243    -0.027647\n",
              "1993-03-01   63.943249     4.157996    -0.028476\n",
              "1993-04-01   61.865984     4.124970    -0.063042\n",
              "1993-05-01   63.612900     4.152816    -0.049767\n",
              "...                ...          ...          ...\n",
              "2021-03-01  111.531140     4.714304    -0.003661\n",
              "2021-04-01  108.070442     4.682783    -0.013414\n",
              "2021-05-01  112.064049     4.719071    -0.021001\n",
              "2021-06-01  111.171275     4.711072    -0.014522\n",
              "2021-07-01  109.877851     4.699369    -0.012631\n",
              "\n",
              "[343 rows x 3 columns]"
            ],
            "text/html": [
              "\n",
              "  <div id=\"df-0be3fce7-db15-4e23-85bb-97106e0e4fd5\">\n",
              "    <div class=\"colab-df-container\">\n",
              "      <div>\n",
              "<style scoped>\n",
              "    .dataframe tbody tr th:only-of-type {\n",
              "        vertical-align: middle;\n",
              "    }\n",
              "\n",
              "    .dataframe tbody tr th {\n",
              "        vertical-align: top;\n",
              "    }\n",
              "\n",
              "    .dataframe thead th {\n",
              "        text-align: right;\n",
              "    }\n",
              "</style>\n",
              "<table border=\"1\" class=\"dataframe\">\n",
              "  <thead>\n",
              "    <tr style=\"text-align: right;\">\n",
              "      <th></th>\n",
              "      <th>Valor</th>\n",
              "      <th>Valor (log)</th>\n",
              "      <th>CambioAnual</th>\n",
              "    </tr>\n",
              "    <tr>\n",
              "      <th>Periodo</th>\n",
              "      <th></th>\n",
              "      <th></th>\n",
              "      <th></th>\n",
              "    </tr>\n",
              "  </thead>\n",
              "  <tbody>\n",
              "    <tr>\n",
              "      <th>1993-01-01</th>\n",
              "      <td>60.407691</td>\n",
              "      <td>4.101116</td>\n",
              "      <td>-0.042483</td>\n",
              "    </tr>\n",
              "    <tr>\n",
              "      <th>1993-02-01</th>\n",
              "      <td>61.022521</td>\n",
              "      <td>4.111243</td>\n",
              "      <td>-0.027647</td>\n",
              "    </tr>\n",
              "    <tr>\n",
              "      <th>1993-03-01</th>\n",
              "      <td>63.943249</td>\n",
              "      <td>4.157996</td>\n",
              "      <td>-0.028476</td>\n",
              "    </tr>\n",
              "    <tr>\n",
              "      <th>1993-04-01</th>\n",
              "      <td>61.865984</td>\n",
              "      <td>4.124970</td>\n",
              "      <td>-0.063042</td>\n",
              "    </tr>\n",
              "    <tr>\n",
              "      <th>1993-05-01</th>\n",
              "      <td>63.612900</td>\n",
              "      <td>4.152816</td>\n",
              "      <td>-0.049767</td>\n",
              "    </tr>\n",
              "    <tr>\n",
              "      <th>...</th>\n",
              "      <td>...</td>\n",
              "      <td>...</td>\n",
              "      <td>...</td>\n",
              "    </tr>\n",
              "    <tr>\n",
              "      <th>2021-03-01</th>\n",
              "      <td>111.531140</td>\n",
              "      <td>4.714304</td>\n",
              "      <td>-0.003661</td>\n",
              "    </tr>\n",
              "    <tr>\n",
              "      <th>2021-04-01</th>\n",
              "      <td>108.070442</td>\n",
              "      <td>4.682783</td>\n",
              "      <td>-0.013414</td>\n",
              "    </tr>\n",
              "    <tr>\n",
              "      <th>2021-05-01</th>\n",
              "      <td>112.064049</td>\n",
              "      <td>4.719071</td>\n",
              "      <td>-0.021001</td>\n",
              "    </tr>\n",
              "    <tr>\n",
              "      <th>2021-06-01</th>\n",
              "      <td>111.171275</td>\n",
              "      <td>4.711072</td>\n",
              "      <td>-0.014522</td>\n",
              "    </tr>\n",
              "    <tr>\n",
              "      <th>2021-07-01</th>\n",
              "      <td>109.877851</td>\n",
              "      <td>4.699369</td>\n",
              "      <td>-0.012631</td>\n",
              "    </tr>\n",
              "  </tbody>\n",
              "</table>\n",
              "<p>343 rows × 3 columns</p>\n",
              "</div>\n",
              "      <button class=\"colab-df-convert\" onclick=\"convertToInteractive('df-0be3fce7-db15-4e23-85bb-97106e0e4fd5')\"\n",
              "              title=\"Convert this dataframe to an interactive table.\"\n",
              "              style=\"display:none;\">\n",
              "        \n",
              "  <svg xmlns=\"http://www.w3.org/2000/svg\" height=\"24px\"viewBox=\"0 0 24 24\"\n",
              "       width=\"24px\">\n",
              "    <path d=\"M0 0h24v24H0V0z\" fill=\"none\"/>\n",
              "    <path d=\"M18.56 5.44l.94 2.06.94-2.06 2.06-.94-2.06-.94-.94-2.06-.94 2.06-2.06.94zm-11 1L8.5 8.5l.94-2.06 2.06-.94-2.06-.94L8.5 2.5l-.94 2.06-2.06.94zm10 10l.94 2.06.94-2.06 2.06-.94-2.06-.94-.94-2.06-.94 2.06-2.06.94z\"/><path d=\"M17.41 7.96l-1.37-1.37c-.4-.4-.92-.59-1.43-.59-.52 0-1.04.2-1.43.59L10.3 9.45l-7.72 7.72c-.78.78-.78 2.05 0 2.83L4 21.41c.39.39.9.59 1.41.59.51 0 1.02-.2 1.41-.59l7.78-7.78 2.81-2.81c.8-.78.8-2.07 0-2.86zM5.41 20L4 18.59l7.72-7.72 1.47 1.35L5.41 20z\"/>\n",
              "  </svg>\n",
              "      </button>\n",
              "      \n",
              "  <style>\n",
              "    .colab-df-container {\n",
              "      display:flex;\n",
              "      flex-wrap:wrap;\n",
              "      gap: 12px;\n",
              "    }\n",
              "\n",
              "    .colab-df-convert {\n",
              "      background-color: #E8F0FE;\n",
              "      border: none;\n",
              "      border-radius: 50%;\n",
              "      cursor: pointer;\n",
              "      display: none;\n",
              "      fill: #1967D2;\n",
              "      height: 32px;\n",
              "      padding: 0 0 0 0;\n",
              "      width: 32px;\n",
              "    }\n",
              "\n",
              "    .colab-df-convert:hover {\n",
              "      background-color: #E2EBFA;\n",
              "      box-shadow: 0px 1px 2px rgba(60, 64, 67, 0.3), 0px 1px 3px 1px rgba(60, 64, 67, 0.15);\n",
              "      fill: #174EA6;\n",
              "    }\n",
              "\n",
              "    [theme=dark] .colab-df-convert {\n",
              "      background-color: #3B4455;\n",
              "      fill: #D2E3FC;\n",
              "    }\n",
              "\n",
              "    [theme=dark] .colab-df-convert:hover {\n",
              "      background-color: #434B5C;\n",
              "      box-shadow: 0px 1px 3px 1px rgba(0, 0, 0, 0.15);\n",
              "      filter: drop-shadow(0px 1px 2px rgba(0, 0, 0, 0.3));\n",
              "      fill: #FFFFFF;\n",
              "    }\n",
              "  </style>\n",
              "\n",
              "      <script>\n",
              "        const buttonEl =\n",
              "          document.querySelector('#df-0be3fce7-db15-4e23-85bb-97106e0e4fd5 button.colab-df-convert');\n",
              "        buttonEl.style.display =\n",
              "          google.colab.kernel.accessAllowed ? 'block' : 'none';\n",
              "\n",
              "        async function convertToInteractive(key) {\n",
              "          const element = document.querySelector('#df-0be3fce7-db15-4e23-85bb-97106e0e4fd5');\n",
              "          const dataTable =\n",
              "            await google.colab.kernel.invokeFunction('convertToInteractive',\n",
              "                                                     [key], {});\n",
              "          if (!dataTable) return;\n",
              "\n",
              "          const docLinkHtml = 'Like what you see? Visit the ' +\n",
              "            '<a target=\"_blank\" href=https://colab.research.google.com/notebooks/data_table.ipynb>data table notebook</a>'\n",
              "            + ' to learn more about interactive tables.';\n",
              "          element.innerHTML = '';\n",
              "          dataTable['output_type'] = 'display_data';\n",
              "          await google.colab.output.renderOutput(dataTable, element);\n",
              "          const docLink = document.createElement('div');\n",
              "          docLink.innerHTML = docLinkHtml;\n",
              "          element.appendChild(docLink);\n",
              "        }\n",
              "      </script>\n",
              "    </div>\n",
              "  </div>\n",
              "  "
            ]
          },
          "metadata": {},
          "execution_count": 80
        }
      ]
    },
    {
      "cell_type": "code",
      "source": [
        "#realizamos una nueva visualizacion de los cambios.\n",
        "\n",
        "plt_indicadores = df_indicadores.plot(y='Valor',figsize=(12,6), use_index=True)"
      ],
      "metadata": {
        "colab": {
          "base_uri": "https://localhost:8080/",
          "height": 389
        },
        "id": "kRPRdnQrIeut",
        "outputId": "2bab9461-7508-40e9-84eb-8a723510ded4"
      },
      "execution_count": 81,
      "outputs": [
        {
          "output_type": "display_data",
          "data": {
            "text/plain": [
              "<Figure size 864x432 with 1 Axes>"
            ],
            "image/png": "[encoded data removed]"
          },
          "metadata": {
            "needs_background": "light"
          }
        }
      ]
    },
    {
      "cell_type": "markdown",
      "source": [
        "**Prueba: Argumented Dickey-Fuller test**"
      ],
      "metadata": {
        "id": "btsdlIMoKCaK"
      }
    },
    {
      "cell_type": "markdown",
      "source": [
        "Usamos la prueba de Dickey-fuller"
      ],
      "metadata": {
        "id": "y1jsFt8yoIDl"
      }
    },
    {
      "cell_type": "code",
      "source": [
        "from statsmodels.tsa.stattools import adfuller\n",
        "#perform augmented Dickey-Fuller test\n",
        "resultadoValor = adfuller(df_indicadores['Valor'])\n",
        "resultadoValorLog = adfuller(df_indicadores['Valor (log)'])\n",
        "resultadoCambioAnual = adfuller(df_indicadores['CambioAnual'])"
      ],
      "metadata": {
        "id": "nWe2T_yzaigg"
      },
      "execution_count": 82,
      "outputs": []
    },
    {
      "cell_type": "code",
      "source": [
        "print(resultadoValor)\n",
        "print(\"------------------------------------------\")\n",
        "\n",
        "print(\"valor p value\",resultadoValor[1])\n",
        "\n",
        "print(\"------------------------------------------\")\n",
        "print(\"valor log p value\",resultadoValorLog[1])\n",
        "\n",
        "print(\"------------------------------------------\")\n",
        "\n",
        "print(\"cambioAnual p value\",resultadoCambioAnual[1])\n"
      ],
      "metadata": {
        "colab": {
          "base_uri": "https://localhost:8080/"
        },
        "id": "8neGzowrqpGs",
        "outputId": "19cd5319-cf74-47b4-ba8a-7b70ec08ad0a"
      },
      "execution_count": 83,
      "outputs": [
        {
          "output_type": "stream",
          "name": "stdout",
          "text": [
            "(-0.9848125452680847, 0.7587631947471516, 17, 325, {'1%': -3.450632157720528, '5%': -2.870474482366864, '10%': -2.5715301325443787}, 1474.4757562385298)\n",
            "------------------------------------------\n",
            "valor p value 0.7587631947471516\n",
            "------------------------------------------\n",
            "valor log p value 0.6486278087525352\n",
            "------------------------------------------\n",
            "cambioAnual p value 0.0032602635598127376\n"
          ]
        }
      ]
    },
    {
      "cell_type": "markdown",
      "source": [
        "Observamos que la mayoria de los p values "
      ],
      "metadata": {
        "id": "hXu9t4EVrMaW"
      }
    },
    {
      "cell_type": "markdown",
      "source": [
        "Analisis del resultado de prueba dickey-fuller:\n",
        "\n",
        "El resultado arrojado es el p-value, siendo este mismo el que nos interesa, ya que como sabemos el p-value nos dice que es el nivel más bajo (de insignificancia) en el que el valor observado de la estadística de prueba es significativo. \n",
        "\n",
        "El valor P es el nivel de significancia más pequeño que conduce al rechazo de la hipótesis nula. En este caso particular podemos observar que las variables de valor normales y logaritmicas rondan entre .75 y .64 en el p-value se puede decir que estas son estacionarias.\n",
        "\n",
        "Tambien podemos notar algi curioso y es que cuando realizamos esta prueba al cambio anual, este nos da un resultado menos a 0.05, queriendo decir que los datos ya son estacionarios y podemos decir que en este caso d = 0 y D = 0.\n"
      ],
      "metadata": {
        "id": "hfvOtQSmKayk"
      }
    },
    {
      "cell_type": "markdown",
      "source": [
        "Es por el resultado obtenido en el test, que se procederá a realizar una transofmración de la variable Value a su valor logaritmico:"
      ],
      "metadata": {
        "id": "krztfbmsfETB"
      }
    },
    {
      "cell_type": "code",
      "source": [
        "#aqui, solo estamos obteniendo el valor logaritmico de cada valor de la variable 'Valor' anualmente.\n",
        "df_indicadores_lg = pd.Series(np.log(df_indicadores['Valor'])).diff(12).dropna()\n",
        "\n",
        "#se procede a realizar una transformacion para tener el dataframe.\n",
        "df_indicadores_lg = df_indicadores_lg.to_frame(name='CambioAnual')\n",
        "\n",
        "#mostramos el nuevo dataset sin valores NaN y habiendo aplicado log\n",
        "df_indicadores_lg"
      ],
      "metadata": {
        "colab": {
          "base_uri": "https://localhost:8080/",
          "height": 455
        },
        "id": "c6gGimS6jDES",
        "outputId": "d66ef2bd-e154-4e55-d507-b1da1a018d89"
      },
      "execution_count": 84,
      "outputs": [
        {
          "output_type": "execute_result",
          "data": {
            "text/plain": [
              "            CambioAnual\n",
              "Periodo                \n",
              "1994-01-01     0.042483\n",
              "1994-02-01     0.027647\n",
              "1994-03-01     0.028476\n",
              "1994-04-01     0.063042\n",
              "1994-05-01     0.049767\n",
              "...                 ...\n",
              "2021-03-01     0.013491\n",
              "2021-04-01     0.202340\n",
              "2021-05-01     0.230376\n",
              "2021-06-01     0.126837\n",
              "2021-07-01     0.070766\n",
              "\n",
              "[331 rows x 1 columns]"
            ],
            "text/html": [
              "\n",
              "  <div id=\"df-b15d0795-e47f-4546-bceb-becd49bdd6b5\">\n",
              "    <div class=\"colab-df-container\">\n",
              "      <div>\n",
              "<style scoped>\n",
              "    .dataframe tbody tr th:only-of-type {\n",
              "        vertical-align: middle;\n",
              "    }\n",
              "\n",
              "    .dataframe tbody tr th {\n",
              "        vertical-align: top;\n",
              "    }\n",
              "\n",
              "    .dataframe thead th {\n",
              "        text-align: right;\n",
              "    }\n",
              "</style>\n",
              "<table border=\"1\" class=\"dataframe\">\n",
              "  <thead>\n",
              "    <tr style=\"text-align: right;\">\n",
              "      <th></th>\n",
              "      <th>CambioAnual</th>\n",
              "    </tr>\n",
              "    <tr>\n",
              "      <th>Periodo</th>\n",
              "      <th></th>\n",
              "    </tr>\n",
              "  </thead>\n",
              "  <tbody>\n",
              "    <tr>\n",
              "      <th>1994-01-01</th>\n",
              "      <td>0.042483</td>\n",
              "    </tr>\n",
              "    <tr>\n",
              "      <th>1994-02-01</th>\n",
              "      <td>0.027647</td>\n",
              "    </tr>\n",
              "    <tr>\n",
              "      <th>1994-03-01</th>\n",
              "      <td>0.028476</td>\n",
              "    </tr>\n",
              "    <tr>\n",
              "      <th>1994-04-01</th>\n",
              "      <td>0.063042</td>\n",
              "    </tr>\n",
              "    <tr>\n",
              "      <th>1994-05-01</th>\n",
              "      <td>0.049767</td>\n",
              "    </tr>\n",
              "    <tr>\n",
              "      <th>...</th>\n",
              "      <td>...</td>\n",
              "    </tr>\n",
              "    <tr>\n",
              "      <th>2021-03-01</th>\n",
              "      <td>0.013491</td>\n",
              "    </tr>\n",
              "    <tr>\n",
              "      <th>2021-04-01</th>\n",
              "      <td>0.202340</td>\n",
              "    </tr>\n",
              "    <tr>\n",
              "      <th>2021-05-01</th>\n",
              "      <td>0.230376</td>\n",
              "    </tr>\n",
              "    <tr>\n",
              "      <th>2021-06-01</th>\n",
              "      <td>0.126837</td>\n",
              "    </tr>\n",
              "    <tr>\n",
              "      <th>2021-07-01</th>\n",
              "      <td>0.070766</td>\n",
              "    </tr>\n",
              "  </tbody>\n",
              "</table>\n",
              "<p>331 rows × 1 columns</p>\n",
              "</div>\n",
              "      <button class=\"colab-df-convert\" onclick=\"convertToInteractive('df-b15d0795-e47f-4546-bceb-becd49bdd6b5')\"\n",
              "              title=\"Convert this dataframe to an interactive table.\"\n",
              "              style=\"display:none;\">\n",
              "        \n",
              "  <svg xmlns=\"http://www.w3.org/2000/svg\" height=\"24px\"viewBox=\"0 0 24 24\"\n",
              "       width=\"24px\">\n",
              "    <path d=\"M0 0h24v24H0V0z\" fill=\"none\"/>\n",
              "    <path d=\"M18.56 5.44l.94 2.06.94-2.06 2.06-.94-2.06-.94-.94-2.06-.94 2.06-2.06.94zm-11 1L8.5 8.5l.94-2.06 2.06-.94-2.06-.94L8.5 2.5l-.94 2.06-2.06.94zm10 10l.94 2.06.94-2.06 2.06-.94-2.06-.94-.94-2.06-.94 2.06-2.06.94z\"/><path d=\"M17.41 7.96l-1.37-1.37c-.4-.4-.92-.59-1.43-.59-.52 0-1.04.2-1.43.59L10.3 9.45l-7.72 7.72c-.78.78-.78 2.05 0 2.83L4 21.41c.39.39.9.59 1.41.59.51 0 1.02-.2 1.41-.59l7.78-7.78 2.81-2.81c.8-.78.8-2.07 0-2.86zM5.41 20L4 18.59l7.72-7.72 1.47 1.35L5.41 20z\"/>\n",
              "  </svg>\n",
              "      </button>\n",
              "      \n",
              "  <style>\n",
              "    .colab-df-container {\n",
              "      display:flex;\n",
              "      flex-wrap:wrap;\n",
              "      gap: 12px;\n",
              "    }\n",
              "\n",
              "    .colab-df-convert {\n",
              "      background-color: #E8F0FE;\n",
              "      border: none;\n",
              "      border-radius: 50%;\n",
              "      cursor: pointer;\n",
              "      display: none;\n",
              "      fill: #1967D2;\n",
              "      height: 32px;\n",
              "      padding: 0 0 0 0;\n",
              "      width: 32px;\n",
              "    }\n",
              "\n",
              "    .colab-df-convert:hover {\n",
              "      background-color: #E2EBFA;\n",
              "      box-shadow: 0px 1px 2px rgba(60, 64, 67, 0.3), 0px 1px 3px 1px rgba(60, 64, 67, 0.15);\n",
              "      fill: #174EA6;\n",
              "    }\n",
              "\n",
              "    [theme=dark] .colab-df-convert {\n",
              "      background-color: #3B4455;\n",
              "      fill: #D2E3FC;\n",
              "    }\n",
              "\n",
              "    [theme=dark] .colab-df-convert:hover {\n",
              "      background-color: #434B5C;\n",
              "      box-shadow: 0px 1px 3px 1px rgba(0, 0, 0, 0.15);\n",
              "      filter: drop-shadow(0px 1px 2px rgba(0, 0, 0, 0.3));\n",
              "      fill: #FFFFFF;\n",
              "    }\n",
              "  </style>\n",
              "\n",
              "      <script>\n",
              "        const buttonEl =\n",
              "          document.querySelector('#df-b15d0795-e47f-4546-bceb-becd49bdd6b5 button.colab-df-convert');\n",
              "        buttonEl.style.display =\n",
              "          google.colab.kernel.accessAllowed ? 'block' : 'none';\n",
              "\n",
              "        async function convertToInteractive(key) {\n",
              "          const element = document.querySelector('#df-b15d0795-e47f-4546-bceb-becd49bdd6b5');\n",
              "          const dataTable =\n",
              "            await google.colab.kernel.invokeFunction('convertToInteractive',\n",
              "                                                     [key], {});\n",
              "          if (!dataTable) return;\n",
              "\n",
              "          const docLinkHtml = 'Like what you see? Visit the ' +\n",
              "            '<a target=\"_blank\" href=https://colab.research.google.com/notebooks/data_table.ipynb>data table notebook</a>'\n",
              "            + ' to learn more about interactive tables.';\n",
              "          element.innerHTML = '';\n",
              "          dataTable['output_type'] = 'display_data';\n",
              "          await google.colab.output.renderOutput(dataTable, element);\n",
              "          const docLink = document.createElement('div');\n",
              "          docLink.innerHTML = docLinkHtml;\n",
              "          element.appendChild(docLink);\n",
              "        }\n",
              "      </script>\n",
              "    </div>\n",
              "  </div>\n",
              "  "
            ]
          },
          "metadata": {},
          "execution_count": 84
        }
      ]
    },
    {
      "cell_type": "markdown",
      "source": [
        "Posteriormente se procede a realizar la primera diferencial de normal de la variable en cuestión, la cual podremos probar nuevamente con el test de Dickey-Fuller que ahora ya es estasionaria."
      ],
      "metadata": {
        "id": "P6Lu_NpkirfG"
      }
    },
    {
      "cell_type": "code",
      "source": [
        "#asignamos a una nueva variable nueva llamada transformada, para poder continuar\n",
        "df_indicadores_transformed = df_indicadores_lg\n",
        "\n",
        "#ploteamos el nuevo df con la primera diferencial de normal aplicada en la variable.\n",
        "df_indicadores_transformed.plot(figsize=(12,6))"
      ],
      "metadata": {
        "colab": {
          "base_uri": "https://localhost:8080/",
          "height": 406
        },
        "id": "-0o28Z8ig250",
        "outputId": "a4944505-bf1c-469f-e278-d37e9a4569a1"
      },
      "execution_count": 85,
      "outputs": [
        {
          "output_type": "execute_result",
          "data": {
            "text/plain": [
              "<matplotlib.axes._subplots.AxesSubplot at 0x7f9da950ddd0>"
            ]
          },
          "metadata": {},
          "execution_count": 85
        },
        {
          "output_type": "display_data",
          "data": {
            "text/plain": [
              "<Figure size 864x432 with 1 Axes>"
            ],
            "image/png": "[encoded data removed]"
          },
          "metadata": {
            "needs_background": "light"
          }
        }
      ]
    },
    {
      "cell_type": "code",
      "source": [
        "#realizamos el test de Deckey-Fuller para saber si la variable/serie es estacionaria\n",
        "\n",
        "adfuller(df_indicadores_transformed)"
      ],
      "metadata": {
        "colab": {
          "base_uri": "https://localhost:8080/"
        },
        "id": "2RqHZ53LkcjV",
        "outputId": "ce69371a-1646-4cc4-c0e1-baaea596a9cb"
      },
      "execution_count": 86,
      "outputs": [
        {
          "output_type": "execute_result",
          "data": {
            "text/plain": [
              "(-3.882606658770676,\n",
              " 0.0021666475209608364,\n",
              " 17,\n",
              " 313,\n",
              " {'1%': -3.4514162625887037,\n",
              "  '5%': -2.8708187088091406,\n",
              "  '10%': -2.5717136883095675},\n",
              " -1415.6033243967963)"
            ]
          },
          "metadata": {},
          "execution_count": 86
        }
      ]
    },
    {
      "cell_type": "code",
      "source": [
        "0.0021666475209608364 < 0.05"
      ],
      "metadata": {
        "colab": {
          "base_uri": "https://localhost:8080/"
        },
        "id": "8JouVg4XrWrG",
        "outputId": "1c15595d-edbe-45f6-de8c-cf5ea5ac8e90"
      },
      "execution_count": 87,
      "outputs": [
        {
          "output_type": "execute_result",
          "data": {
            "text/plain": [
              "True"
            ]
          },
          "metadata": {},
          "execution_count": 87
        }
      ]
    },
    {
      "cell_type": "markdown",
      "source": [
        "Podemos observar que el valor de esta variable transformada es estacionaria, pues su p-value obtenido del test de Dickey-Fuller es 0.0021666475209608364, lo que significa que es menor a 0.05"
      ],
      "metadata": {
        "id": "TTvwupCBrtmw"
      }
    },
    {
      "cell_type": "markdown",
      "source": [
        "# **2-Calibra un modelo ARIMA-SARIMA basado en pruebas y gráficos de autocorrelaciones . Explica claramente el proceso de calibración y la razón de cómo va modificando los parámetros.**"
      ],
      "metadata": {
        "id": "NQohcqmlvy-0"
      }
    },
    {
      "cell_type": "markdown",
      "source": [
        "**Función de autocorrelación (ACF)**"
      ],
      "metadata": {
        "id": "nZrzc5jjx9ne"
      }
    },
    {
      "cell_type": "code",
      "source": [
        "import statsmodels.graphics.tsaplots as tsap\n"
      ],
      "metadata": {
        "id": "iWLMTjVs1FiE"
      },
      "execution_count": 88,
      "outputs": []
    },
    {
      "cell_type": "code",
      "source": [
        "#invocamos los metodos para realizar las graficas correspondientes\n",
        "tsap.plot_acf(df_indicadores_transformed['CambioAnual'], alpha=0.2)\n"
      ],
      "metadata": {
        "colab": {
          "base_uri": "https://localhost:8080/",
          "height": 545
        },
        "id": "ejsu28Uwxteq",
        "outputId": "ee1b0316-2e10-47f6-83b0-ba622c2e7878"
      },
      "execution_count": 89,
      "outputs": [
        {
          "output_type": "execute_result",
          "data": {
            "text/plain": [
              "<Figure size 432x288 with 1 Axes>"
            ],
            "image/png": "[encoded data removed]"
          },
          "metadata": {},
          "execution_count": 89
        },
        {
          "output_type": "display_data",
          "data": {
            "text/plain": [
              "<Figure size 432x288 with 1 Axes>"
            ],
            "image/png": "[encoded data removed]"
          },
          "metadata": {
            "needs_background": "light"
          }
        }
      ]
    },
    {
      "cell_type": "markdown",
      "source": [
        "De la misma manera, como se mencionaba anteriormente; no podemos esperar solamente confiar en nuestra intuición visual a traves de los graficos anteriores, por lo tanto se procede a realizar las matrices con valores equivalentes a las gráficas anteriores."
      ],
      "metadata": {
        "id": "IRJ9v1dmb_aQ"
      }
    },
    {
      "cell_type": "code",
      "source": [
        "from statsmodels.graphics.tsaplots import acf\n",
        "print(acf(df_indicadores_transformed['CambioAnual']))"
      ],
      "metadata": {
        "colab": {
          "base_uri": "https://localhost:8080/"
        },
        "id": "0BhEaYJcbXGz",
        "outputId": "37ecbad6-221d-4c80-d64f-46ae37079625"
      },
      "execution_count": 90,
      "outputs": [
        {
          "output_type": "stream",
          "name": "stdout",
          "text": [
            "[ 1.          0.79061892  0.64114022  0.53030202  0.41084407  0.35768824\n",
            "  0.29051774  0.18719939  0.12757232  0.05642828 -0.05084364 -0.13671505\n",
            " -0.23181452 -0.17964853 -0.11633854 -0.08942951 -0.06296688 -0.04616263\n",
            " -0.06781954 -0.06605477 -0.03659385 -0.05125356 -0.05486616 -0.03356539\n",
            " -0.08976478 -0.0728125  -0.05145019 -0.08006368 -0.08775091 -0.08132793\n",
            " -0.0891497  -0.07765409 -0.07349404 -0.08715206 -0.08072658 -0.08791374\n",
            " -0.05188469 -0.05795542 -0.06341186 -0.05547507 -0.0284231 ]\n"
          ]
        },
        {
          "output_type": "stream",
          "name": "stderr",
          "text": [
            "/usr/local/lib/python3.7/dist-packages/statsmodels/tsa/stattools.py:662: FutureWarning: The default number of lags is changing from 40 tomin(int(10 * np.log10(nobs)), nobs - 1) after 0.12is released. Set the number of lags to an integer to  silence this warning.\n",
            "  FutureWarning,\n",
            "/usr/local/lib/python3.7/dist-packages/statsmodels/tsa/stattools.py:671: FutureWarning: fft=True will become the default after the release of the 0.12 release of statsmodels. To suppress this warning, explicitly set fft=False.\n",
            "  FutureWarning,\n"
          ]
        }
      ]
    },
    {
      "cell_type": "markdown",
      "source": [
        "**Función parcial de autocorrelación (PACF)**"
      ],
      "metadata": {
        "id": "3lZEuY_D2LZa"
      }
    },
    {
      "cell_type": "code",
      "source": [
        "tsap.plot_pacf(df_indicadores_transformed['CambioAnual'], alpha=0.2)"
      ],
      "metadata": {
        "colab": {
          "base_uri": "https://localhost:8080/",
          "height": 545
        },
        "id": "A5xVNPgU2Xu7",
        "outputId": "cb0dbb2a-eb8e-461d-c9cc-ec064d80454b"
      },
      "execution_count": 91,
      "outputs": [
        {
          "output_type": "execute_result",
          "data": {
            "text/plain": [
              "<Figure size 432x288 with 1 Axes>"
            ],
            "image/png": "[encoded data removed]"
          },
          "metadata": {},
          "execution_count": 91
        },
        {
          "output_type": "display_data",
          "data": {
            "text/plain": [
              "<Figure size 432x288 with 1 Axes>"
            ],
            "image/png": "[encoded data removed]"
          },
          "metadata": {
            "needs_background": "light"
          }
        }
      ]
    },
    {
      "cell_type": "code",
      "source": [
        "from statsmodels.graphics.tsaplots import pacf\n",
        "print(pacf(df_indicadores_transformed['CambioAnual']))"
      ],
      "metadata": {
        "colab": {
          "base_uri": "https://localhost:8080/"
        },
        "id": "e0JbKWHycycR",
        "outputId": "39af9491-57bc-4d20-bea0-aaa78cc60fd2"
      },
      "execution_count": 92,
      "outputs": [
        {
          "output_type": "stream",
          "name": "stdout",
          "text": [
            "[ 1.          0.79301474  0.0435574   0.03068632 -0.07223257  0.10309725\n",
            " -0.04705999 -0.13107623  0.01257155 -0.0626116  -0.1703683  -0.09969328\n",
            " -0.1177721   0.31807894  0.08015063 -0.00111248 -0.00859631  0.05764105\n",
            " -0.12123295 -0.0855194   0.0914867  -0.09836359 -0.15213864  0.03181221\n",
            " -0.20631082  0.29025021  0.08190459 -0.06710528 -0.05368493  0.07971213\n",
            " -0.09068334 -0.08966775  0.08328454 -0.08394205 -0.15914255  0.03085769\n",
            "  0.02126862  0.05246051  0.12646265 -0.04725043  0.02968509]\n"
          ]
        },
        {
          "output_type": "stream",
          "name": "stderr",
          "text": [
            "/usr/local/lib/python3.7/dist-packages/statsmodels/tsa/stattools.py:1029: FutureWarning: The default number of lags is changing from 40 tomin(int(10 * np.log10(nobs)), nobs // 2 - 1) after 0.12is released. Set the number of lags to an integer to  silence this warning.\n",
            "  FutureWarning,\n"
          ]
        }
      ]
    },
    {
      "cell_type": "markdown",
      "source": [
        "**Analizis de resultados:**\n",
        "\n",
        "Para empezar, debemos recordar que el ACF nos muestra las correlaciones AC entre la serie con la que trabajamos y sus errores, mientras que el PACF nos indica las autocorrelaciones parciales de la serie con la que trabajamos y, de igual manera, sus errores.\n",
        "\n",
        "Analizemos la primera grafica de autocorrelación. En esta podemos observar como las primeras 6 lineas verticales, sobresalen de manera notable de la zona azul y la linea horizontal azul, la cual como sabemos, es el intervalo de 95% de confianza para las autocorrelaciones, por lo tanto, si la linea vertical cruza la linea punteada azul, esto querrá decir que la autocorrelación especifica es significativamente diferente de cero. En una interpretación un poco más significativa de la primera grafica de ACF, podemos decir entonces que las primeras 6 o 7 lineas verticales son positivas y significativas, con un comportamiento descendente.\n",
        "\n",
        "Para el caso de la segunda grafica tambien conocida como PACF, podemos ver autocorrelaciones especificas, que llegan a medir el cuanto más esta corrlacionada la serie con la que estamos trabajando y sus repectivos LAG, despues de haber considerado el efecto de las autocorrelaciones de los LAG de orden inferior.\n",
        "\n",
        "En la grafica obtenida de PACF, podemos ver como apenas 1 autocorrelación parcial tiene in valor significativo.\n",
        "\n",
        "Tras haber analizado esto, podemos decir que el la calibracion del modelo podemos dejarlo con p = 1 y q = 1."
      ],
      "metadata": {
        "id": "V2evSp9Oc_tB"
      }
    },
    {
      "cell_type": "markdown",
      "source": [
        "#**Estimación de modelos SARIMA**"
      ],
      "metadata": {
        "id": "VTOLzrbmEXzL"
      }
    },
    {
      "cell_type": "markdown",
      "source": [
        "Modelo SARIMA"
      ],
      "metadata": {
        "id": "mD1mhJe64hxK"
      }
    },
    {
      "cell_type": "code",
      "source": [
        "import statsmodels.tsa.arima.model as tsa_arima\n",
        "import statsmodels.api as sm"
      ],
      "metadata": {
        "id": "ZdjI2SKX5Dvo"
      },
      "execution_count": 93,
      "outputs": []
    },
    {
      "cell_type": "code",
      "source": [
        "sarima_model = sm.tsa.statespace.SARIMAX(df_indicadores['Valor (log)'], order = (1,0,1), seasonal_order = (0,1,1,12), simple_differencing = True).fit()\n",
        "\n",
        "\n",
        "print(sarima_model.summary())"
      ],
      "metadata": {
        "colab": {
          "base_uri": "https://localhost:8080/"
        },
        "id": "McPt80qic-LM",
        "outputId": "7b4df657-b827-4c56-a128-8ecfa948c567"
      },
      "execution_count": 94,
      "outputs": [
        {
          "output_type": "stream",
          "name": "stderr",
          "text": [
            "/usr/local/lib/python3.7/dist-packages/statsmodels/tsa/base/tsa_model.py:527: ValueWarning: No frequency information was provided, so inferred frequency MS will be used.\n",
            "  % freq, ValueWarning)\n",
            "/usr/local/lib/python3.7/dist-packages/statsmodels/tsa/base/tsa_model.py:527: ValueWarning: No frequency information was provided, so inferred frequency MS will be used.\n",
            "  % freq, ValueWarning)\n"
          ]
        },
        {
          "output_type": "stream",
          "name": "stdout",
          "text": [
            "                                     SARIMAX Results                                      \n",
            "==========================================================================================\n",
            "Dep. Variable:                   DS12.Valor (log)   No. Observations:                  331\n",
            "Model:             SARIMAX(1, 0, 1)x(0, 0, 1, 12)   Log Likelihood                 773.742\n",
            "Date:                            Sat, 26 Nov 2022   AIC                          -1539.484\n",
            "Time:                                    08:36:14   BIC                          -1524.276\n",
            "Sample:                                01-01-1994   HQIC                         -1533.418\n",
            "                                     - 07-01-2021                                         \n",
            "Covariance Type:                              opg                                         \n",
            "==============================================================================\n",
            "                 coef    std err          z      P>|z|      [0.025      0.975]\n",
            "------------------------------------------------------------------------------\n",
            "ar.L1          0.9893      0.010     95.312      0.000       0.969       1.010\n",
            "ma.L1         -0.2605      0.024    -10.797      0.000      -0.308      -0.213\n",
            "ma.S.L12      -0.8171      0.045    -18.333      0.000      -0.904      -0.730\n",
            "sigma2         0.0005   1.36e-05     38.410      0.000       0.000       0.001\n",
            "===================================================================================\n",
            "Ljung-Box (L1) (Q):                   0.18   Jarque-Bera (JB):              8413.62\n",
            "Prob(Q):                              0.68   Prob(JB):                         0.00\n",
            "Heteroskedasticity (H):               2.39   Skew:                            -2.43\n",
            "Prob(H) (two-sided):                  0.00   Kurtosis:                        27.22\n",
            "===================================================================================\n",
            "\n",
            "Warnings:\n",
            "[1] Covariance matrix calculated using the outer product of gradients (complex-step).\n"
          ]
        }
      ]
    },
    {
      "cell_type": "markdown",
      "source": [
        "**Realizamos una prueba de Ruido Blanco.**"
      ],
      "metadata": {
        "id": "jANZCeqz-giv"
      }
    },
    {
      "cell_type": "code",
      "source": [
        "import statsmodels.api as sm\n",
        "\n",
        "sm.stats.acorr_ljungbox(sarima_model.resid, lags=[12], return_df=True)"
      ],
      "metadata": {
        "colab": {
          "base_uri": "https://localhost:8080/",
          "height": 81
        },
        "id": "N6FEI0ktH5R1",
        "outputId": "9dfa5e45-1d55-4fb7-a4fc-62c3f1055526"
      },
      "execution_count": 95,
      "outputs": [
        {
          "output_type": "execute_result",
          "data": {
            "text/plain": [
              "      lb_stat  lb_pvalue\n",
              "12  27.009933   0.007702"
            ],
            "text/html": [
              "\n",
              "  <div id=\"df-16c6664d-46bc-42e7-90ff-926a7df6dc8e\">\n",
              "    <div class=\"colab-df-container\">\n",
              "      <div>\n",
              "<style scoped>\n",
              "    .dataframe tbody tr th:only-of-type {\n",
              "        vertical-align: middle;\n",
              "    }\n",
              "\n",
              "    .dataframe tbody tr th {\n",
              "        vertical-align: top;\n",
              "    }\n",
              "\n",
              "    .dataframe thead th {\n",
              "        text-align: right;\n",
              "    }\n",
              "</style>\n",
              "<table border=\"1\" class=\"dataframe\">\n",
              "  <thead>\n",
              "    <tr style=\"text-align: right;\">\n",
              "      <th></th>\n",
              "      <th>lb_stat</th>\n",
              "      <th>lb_pvalue</th>\n",
              "    </tr>\n",
              "  </thead>\n",
              "  <tbody>\n",
              "    <tr>\n",
              "      <th>12</th>\n",
              "      <td>27.009933</td>\n",
              "      <td>0.007702</td>\n",
              "    </tr>\n",
              "  </tbody>\n",
              "</table>\n",
              "</div>\n",
              "      <button class=\"colab-df-convert\" onclick=\"convertToInteractive('df-16c6664d-46bc-42e7-90ff-926a7df6dc8e')\"\n",
              "              title=\"Convert this dataframe to an interactive table.\"\n",
              "              style=\"display:none;\">\n",
              "        \n",
              "  <svg xmlns=\"http://www.w3.org/2000/svg\" height=\"24px\"viewBox=\"0 0 24 24\"\n",
              "       width=\"24px\">\n",
              "    <path d=\"M0 0h24v24H0V0z\" fill=\"none\"/>\n",
              "    <path d=\"M18.56 5.44l.94 2.06.94-2.06 2.06-.94-2.06-.94-.94-2.06-.94 2.06-2.06.94zm-11 1L8.5 8.5l.94-2.06 2.06-.94-2.06-.94L8.5 2.5l-.94 2.06-2.06.94zm10 10l.94 2.06.94-2.06 2.06-.94-2.06-.94-.94-2.06-.94 2.06-2.06.94z\"/><path d=\"M17.41 7.96l-1.37-1.37c-.4-.4-.92-.59-1.43-.59-.52 0-1.04.2-1.43.59L10.3 9.45l-7.72 7.72c-.78.78-.78 2.05 0 2.83L4 21.41c.39.39.9.59 1.41.59.51 0 1.02-.2 1.41-.59l7.78-7.78 2.81-2.81c.8-.78.8-2.07 0-2.86zM5.41 20L4 18.59l7.72-7.72 1.47 1.35L5.41 20z\"/>\n",
              "  </svg>\n",
              "      </button>\n",
              "      \n",
              "  <style>\n",
              "    .colab-df-container {\n",
              "      display:flex;\n",
              "      flex-wrap:wrap;\n",
              "      gap: 12px;\n",
              "    }\n",
              "\n",
              "    .colab-df-convert {\n",
              "      background-color: #E8F0FE;\n",
              "      border: none;\n",
              "      border-radius: 50%;\n",
              "      cursor: pointer;\n",
              "      display: none;\n",
              "      fill: #1967D2;\n",
              "      height: 32px;\n",
              "      padding: 0 0 0 0;\n",
              "      width: 32px;\n",
              "    }\n",
              "\n",
              "    .colab-df-convert:hover {\n",
              "      background-color: #E2EBFA;\n",
              "      box-shadow: 0px 1px 2px rgba(60, 64, 67, 0.3), 0px 1px 3px 1px rgba(60, 64, 67, 0.15);\n",
              "      fill: #174EA6;\n",
              "    }\n",
              "\n",
              "    [theme=dark] .colab-df-convert {\n",
              "      background-color: #3B4455;\n",
              "      fill: #D2E3FC;\n",
              "    }\n",
              "\n",
              "    [theme=dark] .colab-df-convert:hover {\n",
              "      background-color: #434B5C;\n",
              "      box-shadow: 0px 1px 3px 1px rgba(0, 0, 0, 0.15);\n",
              "      filter: drop-shadow(0px 1px 2px rgba(0, 0, 0, 0.3));\n",
              "      fill: #FFFFFF;\n",
              "    }\n",
              "  </style>\n",
              "\n",
              "      <script>\n",
              "        const buttonEl =\n",
              "          document.querySelector('#df-16c6664d-46bc-42e7-90ff-926a7df6dc8e button.colab-df-convert');\n",
              "        buttonEl.style.display =\n",
              "          google.colab.kernel.accessAllowed ? 'block' : 'none';\n",
              "\n",
              "        async function convertToInteractive(key) {\n",
              "          const element = document.querySelector('#df-16c6664d-46bc-42e7-90ff-926a7df6dc8e');\n",
              "          const dataTable =\n",
              "            await google.colab.kernel.invokeFunction('convertToInteractive',\n",
              "                                                     [key], {});\n",
              "          if (!dataTable) return;\n",
              "\n",
              "          const docLinkHtml = 'Like what you see? Visit the ' +\n",
              "            '<a target=\"_blank\" href=https://colab.research.google.com/notebooks/data_table.ipynb>data table notebook</a>'\n",
              "            + ' to learn more about interactive tables.';\n",
              "          element.innerHTML = '';\n",
              "          dataTable['output_type'] = 'display_data';\n",
              "          await google.colab.output.renderOutput(dataTable, element);\n",
              "          const docLink = document.createElement('div');\n",
              "          docLink.innerHTML = docLinkHtml;\n",
              "          element.appendChild(docLink);\n",
              "        }\n",
              "      </script>\n",
              "    </div>\n",
              "  </div>\n",
              "  "
            ]
          },
          "metadata": {},
          "execution_count": 95
        }
      ]
    },
    {
      "cell_type": "markdown",
      "source": [
        "#**3-Interpreta los coeficientes y su significancia estadística del modelo calibrado**"
      ],
      "metadata": {
        "id": "868tRvASiUY4"
      }
    },
    {
      "cell_type": "markdown",
      "source": [
        "Poteriormente, tras haber analizado las graficas de autocorrelación, podremos interpretar los resultados obtenidos, pero antes, procederemos a la realizacion de un analisis del modelo usado:\n",
        "SARIMA:\n",
        "\n",
        "P-> se refiere al numero de terminos autorregresivos estacionarios , dejaremos este valor en 1.\n",
        "\n",
        "D->se refiere a cuantas diferencias estacionales se necesitaron para poder hacer la serie de tiempo estacionaria, en mi caso dejare este parametro con valor 0.\n",
        "\n",
        "Q-> se refiere a terminos promedio del movimiento estacional, pude ser el valor 0 o 1, en este caso para el modelo dejare el valor de 1, mas adelante explicaré el motivo.\n",
        "\n",
        "periods-> se refiere a el numero de periodos (meses) en un año."
      ],
      "metadata": {
        "id": "C6FnEADlhpOo"
      }
    },
    {
      "cell_type": "markdown",
      "source": [
        "Podemos observar que al realizar una prueba de ruido, obtenemos un valor que ahora sí es mayor a 0.05, lo cual nos da un indicio de que el modelo se ajusta de manera correcta.\n",
        "\n",
        "A continuación, obtendremos graficas que nos ayudaran a corroborar el resultado obtenido del modelo..."
      ],
      "metadata": {
        "id": "8V8LVEA3VzpE"
      }
    },
    {
      "cell_type": "markdown",
      "source": [
        "Podemos interpretar que la variable obtenida hacer referencia a una tasa de crecimiento anual de la econommia del pais, al realizar una segmentacion de mes por mes influira en el modelo como tal, de modo que al plantarse un valor de .98 este se multiplicará por la tasa del mes pasado.\n",
        "\n",
        "Una cifra importante para poder comprobar lo dicho anteriormente, es fijarnos en el resultado del p-value obtenido de la prueba del ruido blanco tras realizar la calibracion del modelo, el resultado de este valor es muy cercano a cero, por lo que podemos decir que la variable es significativa en terminos estadisticos."
      ],
      "metadata": {
        "id": "TpeWDR_v_E2J"
      }
    },
    {
      "cell_type": "markdown",
      "source": [
        "#**4-Realiza una predicción de la variable utilizando el modelo calibrado.**\n"
      ],
      "metadata": {
        "id": "YNzaA2psetfn"
      }
    },
    {
      "cell_type": "code",
      "source": [
        "predicciones = sarima_model.forecast(24)\n",
        "predicciones"
      ],
      "metadata": {
        "colab": {
          "base_uri": "https://localhost:8080/"
        },
        "id": "pyYtCVCUAwLk",
        "outputId": "cd723f1c-d825-4743-d71a-dbeb6303ebe4"
      },
      "execution_count": 96,
      "outputs": [
        {
          "output_type": "execute_result",
          "data": {
            "text/plain": [
              "2021-08-01    0.073500\n",
              "2021-09-01    0.042059\n",
              "2021-10-01    0.039840\n",
              "2021-11-01    0.036366\n",
              "2021-12-01    0.023437\n",
              "2022-01-01    0.041824\n",
              "2022-02-01    0.041481\n",
              "2022-03-01    0.002153\n",
              "2022-04-01   -0.014431\n",
              "2022-05-01   -0.018420\n",
              "2022-06-01   -0.002537\n",
              "2022-07-01    0.007245\n",
              "2022-08-01    0.003757\n",
              "2022-09-01    0.003717\n",
              "2022-10-01    0.003677\n",
              "2022-11-01    0.003638\n",
              "2022-12-01    0.003599\n",
              "2023-01-01    0.003561\n",
              "2023-02-01    0.003523\n",
              "2023-03-01    0.003485\n",
              "2023-04-01    0.003448\n",
              "2023-05-01    0.003411\n",
              "2023-06-01    0.003375\n",
              "2023-07-01    0.003339\n",
              "Freq: MS, Name: predicted_mean, dtype: float64"
            ]
          },
          "metadata": {},
          "execution_count": 96
        }
      ]
    },
    {
      "cell_type": "code",
      "source": [
        "#establecemos parametros y usamos el metodo get_predict, para obtener nuestros resultados.\n",
        "predict = sarima_model.get_prediction(start=pd.to_datetime('1994-01-01'), end=pd.to_datetime('2023-01-01'), dynamic=False)\n",
        "\n",
        "predict_t = predict.conf_int() # se transforma el resulrado obtenido para poder graficar\n",
        "\n",
        "#creamos la base de la grafica\n",
        "ax = df_indicadores_transformed.plot(label = 'Observed', xlabel = 'Date', ylabel = 'Cambio Anual')\n",
        "\n",
        "#realizamos el ploteo\n",
        "predict.predicted_mean.plot(ax=ax, label=\"Predicción\", alpha=0.8, figsize=(12,12))\n",
        "\n",
        "#ponemos etiquetas a las labels\n",
        "ax.set_xlabel('Fecha')\n",
        "ax.set_ylabel('Valor')\n",
        "\n",
        "plt.legend('graficas prediccion y valores reales')\n",
        "plt.show()"
      ],
      "metadata": {
        "colab": {
          "base_uri": "https://localhost:8080/",
          "height": 770
        },
        "id": "lzFv4szZZK9m",
        "outputId": "eff77191-4e86-479a-fc24-552717bc47df"
      },
      "execution_count": 97,
      "outputs": [
        {
          "output_type": "stream",
          "name": "stderr",
          "text": [
            "/usr/local/lib/python3.7/dist-packages/statsmodels/tsa/base/tsa_model.py:132: FutureWarning: The 'freq' argument in Timestamp is deprecated and will be removed in a future version.\n",
            "  date_key = Timestamp(key, freq=base_index.freq)\n"
          ]
        },
        {
          "output_type": "display_data",
          "data": {
            "text/plain": [
              "<Figure size 864x864 with 1 Axes>"
            ],
            "image/png": "[encoded data removed]"
          },
          "metadata": {
            "needs_background": "light"
          }
        }
      ]
    },
    {
      "cell_type": "markdown",
      "source": [
        "En la grafica anterior, podemos ver la prediccion contra el valor real, en este caso, marcmos el valor de prediccion como naranja y volor azul como valores observados o reales del cambio anual."
      ],
      "metadata": {
        "id": "8lvkoJKNCppM"
      }
    },
    {
      "cell_type": "code",
      "source": [
        "\n",
        "#de nuevo llamamos a nuestro dataframe original y lo ordenamos de forma ascendente.\n",
        "predict_data = data\n",
        "\n",
        "predict_data = predict_data.sort_index(axis=0,ascending=False)\n",
        "\n",
        "predict_data # se muestra el nuevo dataset"
      ],
      "metadata": {
        "colab": {
          "base_uri": "https://localhost:8080/",
          "height": 832
        },
        "id": "fq_gkPP_kdey",
        "outputId": "124f7485-57a7-4a26-cf1f-68fbb13d0dd4"
      },
      "execution_count": 98,
      "outputs": [
        {
          "output_type": "execute_result",
          "data": {
            "text/plain": [
              "      Indicador                                   Nombre Indicador  \\\n",
              "355  6207061409  IGAE. Índice de volumen físico base 2013=100. ...   \n",
              "354  6207061409  IGAE. Índice de volumen físico base 2013=100. ...   \n",
              "353  6207061409  IGAE. Índice de volumen físico base 2013=100. ...   \n",
              "352  6207061409  IGAE. Índice de volumen físico base 2013=100. ...   \n",
              "351  6207061409  IGAE. Índice de volumen físico base 2013=100. ...   \n",
              "..          ...                                                ...   \n",
              "5    6207061409  IGAE. Índice de volumen físico base 2013=100. ...   \n",
              "4    6207061409  IGAE. Índice de volumen físico base 2013=100. ...   \n",
              "3    6207061409  IGAE. Índice de volumen físico base 2013=100. ...   \n",
              "2    6207061409  IGAE. Índice de volumen físico base 2013=100. ...   \n",
              "1    6207061409  IGAE. Índice de volumen físico base 2013=100. ...   \n",
              "\n",
              "    Clave área geográfica                   Entidad                 Municipio  \\\n",
              "355                  0700  Estados Unidos Mexicanos  Estados Unidos Mexicanos   \n",
              "354                  0700  Estados Unidos Mexicanos  Estados Unidos Mexicanos   \n",
              "353                  0700  Estados Unidos Mexicanos  Estados Unidos Mexicanos   \n",
              "352                  0700  Estados Unidos Mexicanos  Estados Unidos Mexicanos   \n",
              "351                  0700  Estados Unidos Mexicanos  Estados Unidos Mexicanos   \n",
              "..                    ...                       ...                       ...   \n",
              "5                    0700  Estados Unidos Mexicanos  Estados Unidos Mexicanos   \n",
              "4                    0700  Estados Unidos Mexicanos  Estados Unidos Mexicanos   \n",
              "3                    0700  Estados Unidos Mexicanos  Estados Unidos Mexicanos   \n",
              "2                    0700  Estados Unidos Mexicanos  Estados Unidos Mexicanos   \n",
              "1                    0700  Estados Unidos Mexicanos  Estados Unidos Mexicanos   \n",
              "\n",
              "       Periodo       Valor Excepción                        Unidad de medida  \\\n",
              "355 1993-01-01   60.407691       NaN  Índice de volumen físico base 2013=100   \n",
              "354 1993-02-01   61.022521       NaN  Índice de volumen físico base 2013=100   \n",
              "353 1993-03-01   63.943249       NaN  Índice de volumen físico base 2013=100   \n",
              "352 1993-04-01   61.865984       NaN  Índice de volumen físico base 2013=100   \n",
              "351 1993-05-01   63.612900       NaN  Índice de volumen físico base 2013=100   \n",
              "..         ...         ...       ...                                     ...   \n",
              "5   2022-03-01  111.940152       NaN  Índice de volumen físico base 2013=100   \n",
              "4   2022-04-01  109.529866       NaN  Índice de volumen físico base 2013=100   \n",
              "3   2022-05-01  114.442424       NaN  Índice de volumen físico base 2013=100   \n",
              "2   2022-06-01  112.797501       NaN  Índice de volumen físico base 2013=100   \n",
              "1   2022-07-01  111.274552       NaN  Índice de volumen físico base 2013=100   \n",
              "\n",
              "    Frecuencia Information Status     Referencias  \n",
              "355    Mensual                NaN  /a  /f1  /r1    \n",
              "354    Mensual                NaN  /a  /f1  /r1    \n",
              "353    Mensual                NaN  /a  /f1  /r1    \n",
              "352    Mensual                NaN  /a  /f1  /r1    \n",
              "351    Mensual                NaN  /a  /f1  /r1    \n",
              "..         ...                ...             ...  \n",
              "5      Mensual                NaN  /a  /f1  /r1    \n",
              "4      Mensual                NaN  /a  /f1  /r1    \n",
              "3      Mensual                NaN  /a  /f1  /r1    \n",
              "2      Mensual                NaN  /a  /f1  /r1    \n",
              "1      Mensual                NaN  /a  /f1  /r1    \n",
              "\n",
              "[355 rows x 12 columns]"
            ],
            "text/html": [
              "\n",
              "  <div id=\"df-8ec23bc5-a967-4739-a1a7-0c0eedfd505d\">\n",
              "    <div class=\"colab-df-container\">\n",
              "      <div>\n",
              "<style scoped>\n",
              "    .dataframe tbody tr th:only-of-type {\n",
              "        vertical-align: middle;\n",
              "    }\n",
              "\n",
              "    .dataframe tbody tr th {\n",
              "        vertical-align: top;\n",
              "    }\n",
              "\n",
              "    .dataframe thead th {\n",
              "        text-align: right;\n",
              "    }\n",
              "</style>\n",
              "<table border=\"1\" class=\"dataframe\">\n",
              "  <thead>\n",
              "    <tr style=\"text-align: right;\">\n",
              "      <th></th>\n",
              "      <th>Indicador</th>\n",
              "      <th>Nombre Indicador</th>\n",
              "      <th>Clave área geográfica</th>\n",
              "      <th>Entidad</th>\n",
              "      <th>Municipio</th>\n",
              "      <th>Periodo</th>\n",
              "      <th>Valor</th>\n",
              "      <th>Excepción</th>\n",
              "      <th>Unidad de medida</th>\n",
              "      <th>Frecuencia</th>\n",
              "      <th>Information Status</th>\n",
              "      <th>Referencias</th>\n",
              "    </tr>\n",
              "  </thead>\n",
              "  <tbody>\n",
              "    <tr>\n",
              "      <th>355</th>\n",
              "      <td>6207061409</td>\n",
              "      <td>IGAE. Índice de volumen físico base 2013=100. ...</td>\n",
              "      <td>0700</td>\n",
              "      <td>Estados Unidos Mexicanos</td>\n",
              "      <td>Estados Unidos Mexicanos</td>\n",
              "      <td>1993-01-01</td>\n",
              "      <td>60.407691</td>\n",
              "      <td>NaN</td>\n",
              "      <td>Índice de volumen físico base 2013=100</td>\n",
              "      <td>Mensual</td>\n",
              "      <td>NaN</td>\n",
              "      <td>/a  /f1  /r1</td>\n",
              "    </tr>\n",
              "    <tr>\n",
              "      <th>354</th>\n",
              "      <td>6207061409</td>\n",
              "      <td>IGAE. Índice de volumen físico base 2013=100. ...</td>\n",
              "      <td>0700</td>\n",
              "      <td>Estados Unidos Mexicanos</td>\n",
              "      <td>Estados Unidos Mexicanos</td>\n",
              "      <td>1993-02-01</td>\n",
              "      <td>61.022521</td>\n",
              "      <td>NaN</td>\n",
              "      <td>Índice de volumen físico base 2013=100</td>\n",
              "      <td>Mensual</td>\n",
              "      <td>NaN</td>\n",
              "      <td>/a  /f1  /r1</td>\n",
              "    </tr>\n",
              "    <tr>\n",
              "      <th>353</th>\n",
              "      <td>6207061409</td>\n",
              "      <td>IGAE. Índice de volumen físico base 2013=100. ...</td>\n",
              "      <td>0700</td>\n",
              "      <td>Estados Unidos Mexicanos</td>\n",
              "      <td>Estados Unidos Mexicanos</td>\n",
              "      <td>1993-03-01</td>\n",
              "      <td>63.943249</td>\n",
              "      <td>NaN</td>\n",
              "      <td>Índice de volumen físico base 2013=100</td>\n",
              "      <td>Mensual</td>\n",
              "      <td>NaN</td>\n",
              "      <td>/a  /f1  /r1</td>\n",
              "    </tr>\n",
              "    <tr>\n",
              "      <th>352</th>\n",
              "      <td>6207061409</td>\n",
              "      <td>IGAE. Índice de volumen físico base 2013=100. ...</td>\n",
              "      <td>0700</td>\n",
              "      <td>Estados Unidos Mexicanos</td>\n",
              "      <td>Estados Unidos Mexicanos</td>\n",
              "      <td>1993-04-01</td>\n",
              "      <td>61.865984</td>\n",
              "      <td>NaN</td>\n",
              "      <td>Índice de volumen físico base 2013=100</td>\n",
              "      <td>Mensual</td>\n",
              "      <td>NaN</td>\n",
              "      <td>/a  /f1  /r1</td>\n",
              "    </tr>\n",
              "    <tr>\n",
              "      <th>351</th>\n",
              "      <td>6207061409</td>\n",
              "      <td>IGAE. Índice de volumen físico base 2013=100. ...</td>\n",
              "      <td>0700</td>\n",
              "      <td>Estados Unidos Mexicanos</td>\n",
              "      <td>Estados Unidos Mexicanos</td>\n",
              "      <td>1993-05-01</td>\n",
              "      <td>63.612900</td>\n",
              "      <td>NaN</td>\n",
              "      <td>Índice de volumen físico base 2013=100</td>\n",
              "      <td>Mensual</td>\n",
              "      <td>NaN</td>\n",
              "      <td>/a  /f1  /r1</td>\n",
              "    </tr>\n",
              "    <tr>\n",
              "      <th>...</th>\n",
              "      <td>...</td>\n",
              "      <td>...</td>\n",
              "      <td>...</td>\n",
              "      <td>...</td>\n",
              "      <td>...</td>\n",
              "      <td>...</td>\n",
              "      <td>...</td>\n",
              "      <td>...</td>\n",
              "      <td>...</td>\n",
              "      <td>...</td>\n",
              "      <td>...</td>\n",
              "      <td>...</td>\n",
              "    </tr>\n",
              "    <tr>\n",
              "      <th>5</th>\n",
              "      <td>6207061409</td>\n",
              "      <td>IGAE. Índice de volumen físico base 2013=100. ...</td>\n",
              "      <td>0700</td>\n",
              "      <td>Estados Unidos Mexicanos</td>\n",
              "      <td>Estados Unidos Mexicanos</td>\n",
              "      <td>2022-03-01</td>\n",
              "      <td>111.940152</td>\n",
              "      <td>NaN</td>\n",
              "      <td>Índice de volumen físico base 2013=100</td>\n",
              "      <td>Mensual</td>\n",
              "      <td>NaN</td>\n",
              "      <td>/a  /f1  /r1</td>\n",
              "    </tr>\n",
              "    <tr>\n",
              "      <th>4</th>\n",
              "      <td>6207061409</td>\n",
              "      <td>IGAE. Índice de volumen físico base 2013=100. ...</td>\n",
              "      <td>0700</td>\n",
              "      <td>Estados Unidos Mexicanos</td>\n",
              "      <td>Estados Unidos Mexicanos</td>\n",
              "      <td>2022-04-01</td>\n",
              "      <td>109.529866</td>\n",
              "      <td>NaN</td>\n",
              "      <td>Índice de volumen físico base 2013=100</td>\n",
              "      <td>Mensual</td>\n",
              "      <td>NaN</td>\n",
              "      <td>/a  /f1  /r1</td>\n",
              "    </tr>\n",
              "    <tr>\n",
              "      <th>3</th>\n",
              "      <td>6207061409</td>\n",
              "      <td>IGAE. Índice de volumen físico base 2013=100. ...</td>\n",
              "      <td>0700</td>\n",
              "      <td>Estados Unidos Mexicanos</td>\n",
              "      <td>Estados Unidos Mexicanos</td>\n",
              "      <td>2022-05-01</td>\n",
              "      <td>114.442424</td>\n",
              "      <td>NaN</td>\n",
              "      <td>Índice de volumen físico base 2013=100</td>\n",
              "      <td>Mensual</td>\n",
              "      <td>NaN</td>\n",
              "      <td>/a  /f1  /r1</td>\n",
              "    </tr>\n",
              "    <tr>\n",
              "      <th>2</th>\n",
              "      <td>6207061409</td>\n",
              "      <td>IGAE. Índice de volumen físico base 2013=100. ...</td>\n",
              "      <td>0700</td>\n",
              "      <td>Estados Unidos Mexicanos</td>\n",
              "      <td>Estados Unidos Mexicanos</td>\n",
              "      <td>2022-06-01</td>\n",
              "      <td>112.797501</td>\n",
              "      <td>NaN</td>\n",
              "      <td>Índice de volumen físico base 2013=100</td>\n",
              "      <td>Mensual</td>\n",
              "      <td>NaN</td>\n",
              "      <td>/a  /f1  /r1</td>\n",
              "    </tr>\n",
              "    <tr>\n",
              "      <th>1</th>\n",
              "      <td>6207061409</td>\n",
              "      <td>IGAE. Índice de volumen físico base 2013=100. ...</td>\n",
              "      <td>0700</td>\n",
              "      <td>Estados Unidos Mexicanos</td>\n",
              "      <td>Estados Unidos Mexicanos</td>\n",
              "      <td>2022-07-01</td>\n",
              "      <td>111.274552</td>\n",
              "      <td>NaN</td>\n",
              "      <td>Índice de volumen físico base 2013=100</td>\n",
              "      <td>Mensual</td>\n",
              "      <td>NaN</td>\n",
              "      <td>/a  /f1  /r1</td>\n",
              "    </tr>\n",
              "  </tbody>\n",
              "</table>\n",
              "<p>355 rows × 12 columns</p>\n",
              "</div>\n",
              "      <button class=\"colab-df-convert\" onclick=\"convertToInteractive('df-8ec23bc5-a967-4739-a1a7-0c0eedfd505d')\"\n",
              "              title=\"Convert this dataframe to an interactive table.\"\n",
              "              style=\"display:none;\">\n",
              "        \n",
              "  <svg xmlns=\"http://www.w3.org/2000/svg\" height=\"24px\"viewBox=\"0 0 24 24\"\n",
              "       width=\"24px\">\n",
              "    <path d=\"M0 0h24v24H0V0z\" fill=\"none\"/>\n",
              "    <path d=\"M18.56 5.44l.94 2.06.94-2.06 2.06-.94-2.06-.94-.94-2.06-.94 2.06-2.06.94zm-11 1L8.5 8.5l.94-2.06 2.06-.94-2.06-.94L8.5 2.5l-.94 2.06-2.06.94zm10 10l.94 2.06.94-2.06 2.06-.94-2.06-.94-.94-2.06-.94 2.06-2.06.94z\"/><path d=\"M17.41 7.96l-1.37-1.37c-.4-.4-.92-.59-1.43-.59-.52 0-1.04.2-1.43.59L10.3 9.45l-7.72 7.72c-.78.78-.78 2.05 0 2.83L4 21.41c.39.39.9.59 1.41.59.51 0 1.02-.2 1.41-.59l7.78-7.78 2.81-2.81c.8-.78.8-2.07 0-2.86zM5.41 20L4 18.59l7.72-7.72 1.47 1.35L5.41 20z\"/>\n",
              "  </svg>\n",
              "      </button>\n",
              "      \n",
              "  <style>\n",
              "    .colab-df-container {\n",
              "      display:flex;\n",
              "      flex-wrap:wrap;\n",
              "      gap: 12px;\n",
              "    }\n",
              "\n",
              "    .colab-df-convert {\n",
              "      background-color: #E8F0FE;\n",
              "      border: none;\n",
              "      border-radius: 50%;\n",
              "      cursor: pointer;\n",
              "      display: none;\n",
              "      fill: #1967D2;\n",
              "      height: 32px;\n",
              "      padding: 0 0 0 0;\n",
              "      width: 32px;\n",
              "    }\n",
              "\n",
              "    .colab-df-convert:hover {\n",
              "      background-color: #E2EBFA;\n",
              "      box-shadow: 0px 1px 2px rgba(60, 64, 67, 0.3), 0px 1px 3px 1px rgba(60, 64, 67, 0.15);\n",
              "      fill: #174EA6;\n",
              "    }\n",
              "\n",
              "    [theme=dark] .colab-df-convert {\n",
              "      background-color: #3B4455;\n",
              "      fill: #D2E3FC;\n",
              "    }\n",
              "\n",
              "    [theme=dark] .colab-df-convert:hover {\n",
              "      background-color: #434B5C;\n",
              "      box-shadow: 0px 1px 3px 1px rgba(0, 0, 0, 0.15);\n",
              "      filter: drop-shadow(0px 1px 2px rgba(0, 0, 0, 0.3));\n",
              "      fill: #FFFFFF;\n",
              "    }\n",
              "  </style>\n",
              "\n",
              "      <script>\n",
              "        const buttonEl =\n",
              "          document.querySelector('#df-8ec23bc5-a967-4739-a1a7-0c0eedfd505d button.colab-df-convert');\n",
              "        buttonEl.style.display =\n",
              "          google.colab.kernel.accessAllowed ? 'block' : 'none';\n",
              "\n",
              "        async function convertToInteractive(key) {\n",
              "          const element = document.querySelector('#df-8ec23bc5-a967-4739-a1a7-0c0eedfd505d');\n",
              "          const dataTable =\n",
              "            await google.colab.kernel.invokeFunction('convertToInteractive',\n",
              "                                                     [key], {});\n",
              "          if (!dataTable) return;\n",
              "\n",
              "          const docLinkHtml = 'Like what you see? Visit the ' +\n",
              "            '<a target=\"_blank\" href=https://colab.research.google.com/notebooks/data_table.ipynb>data table notebook</a>'\n",
              "            + ' to learn more about interactive tables.';\n",
              "          element.innerHTML = '';\n",
              "          dataTable['output_type'] = 'display_data';\n",
              "          await google.colab.output.renderOutput(dataTable, element);\n",
              "          const docLink = document.createElement('div');\n",
              "          docLink.innerHTML = docLinkHtml;\n",
              "          element.appendChild(docLink);\n",
              "        }\n",
              "      </script>\n",
              "    </div>\n",
              "  </div>\n",
              "  "
            ]
          },
          "metadata": {},
          "execution_count": 98
        }
      ]
    },
    {
      "cell_type": "code",
      "source": [
        "# realizamos prediccion de los datos originales\n",
        "df_prediccion = pd.DataFrame(sarima_model.forecast(24))\n",
        "\n",
        "\n",
        "#revertimos el logaritmo aplicado anteriormente a los datos.\n",
        "df_prediccion = np.exp(df_prediccion).reset_index(drop=True)\n",
        "\n",
        "#concatenamos y dataframes para hacer uno que contenga las predicciones.\n",
        "df_prediccion['Valor'] = df_indicadores[\"Valor\"].tail(50).reset_index(drop=True)\n",
        "df_prediccion['Forecast'] = pd.DataFrame(df_prediccion['predicted_mean'] + df_prediccion['Valor'])\n",
        "\n",
        "\n",
        "# se configura la variable periodo de acuerdo a las fechas del dataframe original YYYY-MM-DD\n",
        "df_prediccion['Periodo'] = pd.date_range(start='2022-07-01', periods=24, freq='M')\n",
        "df_prediccion['Periodo'] = pd.to_datetime(df_prediccion['Periodo']) \n",
        "\n",
        "df_prediccion # se muestra el resultado"
      ],
      "metadata": {
        "colab": {
          "base_uri": "https://localhost:8080/",
          "height": 802
        },
        "id": "OUg_tQTvodYK",
        "outputId": "92723576-953e-4d5a-a66e-23d654088b46"
      },
      "execution_count": 99,
      "outputs": [
        {
          "output_type": "execute_result",
          "data": {
            "text/plain": [
              "    predicted_mean       Valor    Forecast    Periodo\n",
              "0         1.076268  112.796383  113.872651 2022-07-31\n",
              "1         1.042956  108.954460  109.997416 2022-08-31\n",
              "2         1.040644  111.770062  112.810706 2022-09-30\n",
              "3         1.037035  106.322342  107.359377 2022-10-31\n",
              "4         1.023713  112.849234  113.872948 2022-11-30\n",
              "5         1.042711  116.180677  117.223387 2022-12-31\n",
              "6         1.042353  114.000995  115.043348 2023-01-31\n",
              "7         1.002155  111.017452  112.019607 2023-02-28\n",
              "8         0.985673  107.814054  108.799727 2023-03-31\n",
              "9         0.981748  111.201253  112.183001 2023-04-30\n",
              "10        0.997467  111.604488  112.601954 2023-05-31\n",
              "11        1.007271  115.829644  116.836915 2023-06-30\n",
              "12        1.003764  114.446679  115.450442 2023-07-31\n",
              "13        1.003724  112.803994  113.807717 2023-08-31\n",
              "14        1.003684  114.326664  115.330348 2023-09-30\n",
              "15        1.003644  108.767749  109.771393 2023-10-31\n",
              "16        1.003606  115.959458  116.963064 2023-11-30\n",
              "17        1.003567  117.719440  118.723007 2023-12-31\n",
              "18        1.003529  113.095553  114.099082 2024-01-31\n",
              "19        1.003491  112.513904  113.517395 2024-02-29\n",
              "20        1.003454  108.831235  109.834689 2024-03-31\n",
              "21        1.003417  112.278236  113.281653 2024-04-30\n",
              "22        1.003381  109.808435  110.811816 2024-05-31\n",
              "23        1.003345  115.234325  116.237669 2024-06-30"
            ],
            "text/html": [
              "\n",
              "  <div id=\"df-42ed96c9-1969-4f00-818b-39b053f412e2\">\n",
              "    <div class=\"colab-df-container\">\n",
              "      <div>\n",
              "<style scoped>\n",
              "    .dataframe tbody tr th:only-of-type {\n",
              "        vertical-align: middle;\n",
              "    }\n",
              "\n",
              "    .dataframe tbody tr th {\n",
              "        vertical-align: top;\n",
              "    }\n",
              "\n",
              "    .dataframe thead th {\n",
              "        text-align: right;\n",
              "    }\n",
              "</style>\n",
              "<table border=\"1\" class=\"dataframe\">\n",
              "  <thead>\n",
              "    <tr style=\"text-align: right;\">\n",
              "      <th></th>\n",
              "      <th>predicted_mean</th>\n",
              "      <th>Valor</th>\n",
              "      <th>Forecast</th>\n",
              "      <th>Periodo</th>\n",
              "    </tr>\n",
              "  </thead>\n",
              "  <tbody>\n",
              "    <tr>\n",
              "      <th>0</th>\n",
              "      <td>1.076268</td>\n",
              "      <td>112.796383</td>\n",
              "      <td>113.872651</td>\n",
              "      <td>2022-07-31</td>\n",
              "    </tr>\n",
              "    <tr>\n",
              "      <th>1</th>\n",
              "      <td>1.042956</td>\n",
              "      <td>108.954460</td>\n",
              "      <td>109.997416</td>\n",
              "      <td>2022-08-31</td>\n",
              "    </tr>\n",
              "    <tr>\n",
              "      <th>2</th>\n",
              "      <td>1.040644</td>\n",
              "      <td>111.770062</td>\n",
              "      <td>112.810706</td>\n",
              "      <td>2022-09-30</td>\n",
              "    </tr>\n",
              "    <tr>\n",
              "      <th>3</th>\n",
              "      <td>1.037035</td>\n",
              "      <td>106.322342</td>\n",
              "      <td>107.359377</td>\n",
              "      <td>2022-10-31</td>\n",
              "    </tr>\n",
              "    <tr>\n",
              "      <th>4</th>\n",
              "      <td>1.023713</td>\n",
              "      <td>112.849234</td>\n",
              "      <td>113.872948</td>\n",
              "      <td>2022-11-30</td>\n",
              "    </tr>\n",
              "    <tr>\n",
              "      <th>5</th>\n",
              "      <td>1.042711</td>\n",
              "      <td>116.180677</td>\n",
              "      <td>117.223387</td>\n",
              "      <td>2022-12-31</td>\n",
              "    </tr>\n",
              "    <tr>\n",
              "      <th>6</th>\n",
              "      <td>1.042353</td>\n",
              "      <td>114.000995</td>\n",
              "      <td>115.043348</td>\n",
              "      <td>2023-01-31</td>\n",
              "    </tr>\n",
              "    <tr>\n",
              "      <th>7</th>\n",
              "      <td>1.002155</td>\n",
              "      <td>111.017452</td>\n",
              "      <td>112.019607</td>\n",
              "      <td>2023-02-28</td>\n",
              "    </tr>\n",
              "    <tr>\n",
              "      <th>8</th>\n",
              "      <td>0.985673</td>\n",
              "      <td>107.814054</td>\n",
              "      <td>108.799727</td>\n",
              "      <td>2023-03-31</td>\n",
              "    </tr>\n",
              "    <tr>\n",
              "      <th>9</th>\n",
              "      <td>0.981748</td>\n",
              "      <td>111.201253</td>\n",
              "      <td>112.183001</td>\n",
              "      <td>2023-04-30</td>\n",
              "    </tr>\n",
              "    <tr>\n",
              "      <th>10</th>\n",
              "      <td>0.997467</td>\n",
              "      <td>111.604488</td>\n",
              "      <td>112.601954</td>\n",
              "      <td>2023-05-31</td>\n",
              "    </tr>\n",
              "    <tr>\n",
              "      <th>11</th>\n",
              "      <td>1.007271</td>\n",
              "      <td>115.829644</td>\n",
              "      <td>116.836915</td>\n",
              "      <td>2023-06-30</td>\n",
              "    </tr>\n",
              "    <tr>\n",
              "      <th>12</th>\n",
              "      <td>1.003764</td>\n",
              "      <td>114.446679</td>\n",
              "      <td>115.450442</td>\n",
              "      <td>2023-07-31</td>\n",
              "    </tr>\n",
              "    <tr>\n",
              "      <th>13</th>\n",
              "      <td>1.003724</td>\n",
              "      <td>112.803994</td>\n",
              "      <td>113.807717</td>\n",
              "      <td>2023-08-31</td>\n",
              "    </tr>\n",
              "    <tr>\n",
              "      <th>14</th>\n",
              "      <td>1.003684</td>\n",
              "      <td>114.326664</td>\n",
              "      <td>115.330348</td>\n",
              "      <td>2023-09-30</td>\n",
              "    </tr>\n",
              "    <tr>\n",
              "      <th>15</th>\n",
              "      <td>1.003644</td>\n",
              "      <td>108.767749</td>\n",
              "      <td>109.771393</td>\n",
              "      <td>2023-10-31</td>\n",
              "    </tr>\n",
              "    <tr>\n",
              "      <th>16</th>\n",
              "      <td>1.003606</td>\n",
              "      <td>115.959458</td>\n",
              "      <td>116.963064</td>\n",
              "      <td>2023-11-30</td>\n",
              "    </tr>\n",
              "    <tr>\n",
              "      <th>17</th>\n",
              "      <td>1.003567</td>\n",
              "      <td>117.719440</td>\n",
              "      <td>118.723007</td>\n",
              "      <td>2023-12-31</td>\n",
              "    </tr>\n",
              "    <tr>\n",
              "      <th>18</th>\n",
              "      <td>1.003529</td>\n",
              "      <td>113.095553</td>\n",
              "      <td>114.099082</td>\n",
              "      <td>2024-01-31</td>\n",
              "    </tr>\n",
              "    <tr>\n",
              "      <th>19</th>\n",
              "      <td>1.003491</td>\n",
              "      <td>112.513904</td>\n",
              "      <td>113.517395</td>\n",
              "      <td>2024-02-29</td>\n",
              "    </tr>\n",
              "    <tr>\n",
              "      <th>20</th>\n",
              "      <td>1.003454</td>\n",
              "      <td>108.831235</td>\n",
              "      <td>109.834689</td>\n",
              "      <td>2024-03-31</td>\n",
              "    </tr>\n",
              "    <tr>\n",
              "      <th>21</th>\n",
              "      <td>1.003417</td>\n",
              "      <td>112.278236</td>\n",
              "      <td>113.281653</td>\n",
              "      <td>2024-04-30</td>\n",
              "    </tr>\n",
              "    <tr>\n",
              "      <th>22</th>\n",
              "      <td>1.003381</td>\n",
              "      <td>109.808435</td>\n",
              "      <td>110.811816</td>\n",
              "      <td>2024-05-31</td>\n",
              "    </tr>\n",
              "    <tr>\n",
              "      <th>23</th>\n",
              "      <td>1.003345</td>\n",
              "      <td>115.234325</td>\n",
              "      <td>116.237669</td>\n",
              "      <td>2024-06-30</td>\n",
              "    </tr>\n",
              "  </tbody>\n",
              "</table>\n",
              "</div>\n",
              "      <button class=\"colab-df-convert\" onclick=\"convertToInteractive('df-42ed96c9-1969-4f00-818b-39b053f412e2')\"\n",
              "              title=\"Convert this dataframe to an interactive table.\"\n",
              "              style=\"display:none;\">\n",
              "        \n",
              "  <svg xmlns=\"http://www.w3.org/2000/svg\" height=\"24px\"viewBox=\"0 0 24 24\"\n",
              "       width=\"24px\">\n",
              "    <path d=\"M0 0h24v24H0V0z\" fill=\"none\"/>\n",
              "    <path d=\"M18.56 5.44l.94 2.06.94-2.06 2.06-.94-2.06-.94-.94-2.06-.94 2.06-2.06.94zm-11 1L8.5 8.5l.94-2.06 2.06-.94-2.06-.94L8.5 2.5l-.94 2.06-2.06.94zm10 10l.94 2.06.94-2.06 2.06-.94-2.06-.94-.94-2.06-.94 2.06-2.06.94z\"/><path d=\"M17.41 7.96l-1.37-1.37c-.4-.4-.92-.59-1.43-.59-.52 0-1.04.2-1.43.59L10.3 9.45l-7.72 7.72c-.78.78-.78 2.05 0 2.83L4 21.41c.39.39.9.59 1.41.59.51 0 1.02-.2 1.41-.59l7.78-7.78 2.81-2.81c.8-.78.8-2.07 0-2.86zM5.41 20L4 18.59l7.72-7.72 1.47 1.35L5.41 20z\"/>\n",
              "  </svg>\n",
              "      </button>\n",
              "      \n",
              "  <style>\n",
              "    .colab-df-container {\n",
              "      display:flex;\n",
              "      flex-wrap:wrap;\n",
              "      gap: 12px;\n",
              "    }\n",
              "\n",
              "    .colab-df-convert {\n",
              "      background-color: #E8F0FE;\n",
              "      border: none;\n",
              "      border-radius: 50%;\n",
              "      cursor: pointer;\n",
              "      display: none;\n",
              "      fill: #1967D2;\n",
              "      height: 32px;\n",
              "      padding: 0 0 0 0;\n",
              "      width: 32px;\n",
              "    }\n",
              "\n",
              "    .colab-df-convert:hover {\n",
              "      background-color: #E2EBFA;\n",
              "      box-shadow: 0px 1px 2px rgba(60, 64, 67, 0.3), 0px 1px 3px 1px rgba(60, 64, 67, 0.15);\n",
              "      fill: #174EA6;\n",
              "    }\n",
              "\n",
              "    [theme=dark] .colab-df-convert {\n",
              "      background-color: #3B4455;\n",
              "      fill: #D2E3FC;\n",
              "    }\n",
              "\n",
              "    [theme=dark] .colab-df-convert:hover {\n",
              "      background-color: #434B5C;\n",
              "      box-shadow: 0px 1px 3px 1px rgba(0, 0, 0, 0.15);\n",
              "      filter: drop-shadow(0px 1px 2px rgba(0, 0, 0, 0.3));\n",
              "      fill: #FFFFFF;\n",
              "    }\n",
              "  </style>\n",
              "\n",
              "      <script>\n",
              "        const buttonEl =\n",
              "          document.querySelector('#df-42ed96c9-1969-4f00-818b-39b053f412e2 button.colab-df-convert');\n",
              "        buttonEl.style.display =\n",
              "          google.colab.kernel.accessAllowed ? 'block' : 'none';\n",
              "\n",
              "        async function convertToInteractive(key) {\n",
              "          const element = document.querySelector('#df-42ed96c9-1969-4f00-818b-39b053f412e2');\n",
              "          const dataTable =\n",
              "            await google.colab.kernel.invokeFunction('convertToInteractive',\n",
              "                                                     [key], {});\n",
              "          if (!dataTable) return;\n",
              "\n",
              "          const docLinkHtml = 'Like what you see? Visit the ' +\n",
              "            '<a target=\"_blank\" href=https://colab.research.google.com/notebooks/data_table.ipynb>data table notebook</a>'\n",
              "            + ' to learn more about interactive tables.';\n",
              "          element.innerHTML = '';\n",
              "          dataTable['output_type'] = 'display_data';\n",
              "          await google.colab.output.renderOutput(dataTable, element);\n",
              "          const docLink = document.createElement('div');\n",
              "          docLink.innerHTML = docLinkHtml;\n",
              "          element.appendChild(docLink);\n",
              "        }\n",
              "      </script>\n",
              "    </div>\n",
              "  </div>\n",
              "  "
            ]
          },
          "metadata": {},
          "execution_count": 99
        }
      ]
    },
    {
      "cell_type": "code",
      "source": [
        "# se concatena el valor predecido y el original en una grafica.\n",
        "ax = data.plot('Periodo','Valor')\n",
        "df_prediccion.plot('Periodo','Forecast', ax=ax)"
      ],
      "metadata": {
        "colab": {
          "base_uri": "https://localhost:8080/",
          "height": 297
        },
        "id": "eFvpQh6GxA4j",
        "outputId": "5af76b8a-406b-43e8-a315-4322cdceb146"
      },
      "execution_count": 100,
      "outputs": [
        {
          "output_type": "execute_result",
          "data": {
            "text/plain": [
              "<matplotlib.axes._subplots.AxesSubplot at 0x7f9dab3aea50>"
            ]
          },
          "metadata": {},
          "execution_count": 100
        },
        {
          "output_type": "display_data",
          "data": {
            "text/plain": [
              "<Figure size 432x288 with 1 Axes>"
            ],
            "image/png": "[encoded data removed]"
          },
          "metadata": {
            "needs_background": "light"
          }
        }
      ]
    }
  ]
}
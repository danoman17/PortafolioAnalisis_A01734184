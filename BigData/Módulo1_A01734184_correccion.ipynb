{
  "nbformat": 4,
  "nbformat_minor": 0,
  "metadata": {
    "colab": {
      "provenance": []
    },
    "kernelspec": {
      "name": "python3",
      "display_name": "Python 3"
    },
    "language_info": {
      "name": "python"
    }
  },
  "cells": [
    {
      "cell_type": "markdown",
      "source": [
        "**Momento de Retroalimentación: Módulo 1 Utilización, procesamiento y visualización de grandes volúmenes de datos (Portafolio Análisis)**\n",
        "\n",
        "Daniel Flores Rodíguez - A01734184"
      ],
      "metadata": {
        "id": "Zy9FQjoXeZ9e"
      }
    },
    {
      "cell_type": "markdown",
      "source": [
        "Lo que se realiza como primera instacia es importar todas las herramientas que tenemos que instalar para poder intalar pyspark y tambien poder inicializarlo."
      ],
      "metadata": {
        "id": "0DuPRGRHejo9"
      }
    },
    {
      "cell_type": "code",
      "execution_count": null,
      "metadata": {
        "id": "bOt06zYyc7GZ"
      },
      "outputs": [],
      "source": [
        "#Bibliotecas de Pyspark\n",
        "!sudo apt update\n",
        "!apt-get install openjdk-8-jdk-headless -qq > /dev/null\n",
        "!wget -q https://downloads.apache.org/spark/spark-3.2.2//spark-3.2.2-bin-hadoop3.2.tgz\n",
        "!tar xf spark-3.2.2-bin-hadoop3.2.tgz"
      ]
    },
    {
      "cell_type": "code",
      "source": [
        "# Configuramos Spark con Python\n",
        "!pip install -q findspark\n",
        "!pip install pyspark"
      ],
      "metadata": {
        "id": "nVi85ylzfOKW"
      },
      "execution_count": null,
      "outputs": []
    },
    {
      "cell_type": "code",
      "source": [
        "# Establecemos las variables de entorno\n",
        "import os\n",
        "os.environ[\"JAVA_HOME\"] = \"/usr/lib/jvm/java-8-openjdk-amd64\"\n",
        "os.environ[\"SPARK_HOME\"] = \"/content/spark-3.2.2-bin-hadoop3.2\"\n",
        "\n",
        "# Inicializamos la instalacion de Spark\n",
        "import findspark\n",
        "findspark.init()\n",
        "findspark.find()"
      ],
      "metadata": {
        "colab": {
          "base_uri": "https://localhost:8080/",
          "height": 35
        },
        "id": "kuraAdftgMey",
        "outputId": "f9fb7a5d-c0af-4d8c-a160-a8d230e0564b"
      },
      "execution_count": 3,
      "outputs": [
        {
          "output_type": "execute_result",
          "data": {
            "text/plain": [
              "'/content/spark-3.2.2-bin-hadoop3.2'"
            ],
            "application/vnd.google.colaboratory.intrinsic+json": {
              "type": "string"
            }
          },
          "metadata": {},
          "execution_count": 3
        }
      ]
    },
    {
      "cell_type": "markdown",
      "source": [
        "Posteriormente de realizar las instalaciones y las iniciaziones pertienentes, se realiza la configuracion de nuestro Drive, para poder acceder a los datos con lo que se va a trabajar."
      ],
      "metadata": {
        "id": "4gt-b0s_g-Wr"
      }
    },
    {
      "cell_type": "code",
      "source": [
        "from google.colab import drive\n",
        "\n",
        "drive.mount(\"/content/gdrive\")\n",
        "\n",
        "%cd \"/content/gdrive/Shareddrives/Reto AI SEPTIMO\""
      ],
      "metadata": {
        "colab": {
          "base_uri": "https://localhost:8080/"
        },
        "id": "qn7bMd5Wg1m1",
        "outputId": "0bbb47ec-91d5-421a-dbbf-6e10d83d377a"
      },
      "execution_count": 4,
      "outputs": [
        {
          "output_type": "stream",
          "name": "stdout",
          "text": [
            "Mounted at /content/gdrive\n",
            "/content/gdrive/Shareddrives/Reto AI SEPTIMO\n"
          ]
        }
      ]
    },
    {
      "cell_type": "markdown",
      "source": [
        "En este caso, verificamos que la instalacion de PySpark sea correcta y que sea funcional para poder trabajar posteriormente sin ningun problema."
      ],
      "metadata": {
        "id": "UwUXRIyrkFOO"
      }
    },
    {
      "cell_type": "code",
      "source": [
        "#Verificar la funcionalidad de Pyspark \n",
        "\n",
        "from pyspark.sql import SparkSession\n",
        "from pyspark import SparkContext\n",
        "from pyspark.mllib.regression import LabeledPoint\n",
        "from pyspark.sql.functions import col\n",
        "from pyspark.sql.types import IntegerType,FloatType \n",
        "\n",
        "\n",
        "spark_session = SparkSession.builder.appName('Modulo1_Datos_Grandes').config(\"spark.driver.memory\", \"16g\").getOrCreate()\n",
        "spark_session"
      ],
      "metadata": {
        "colab": {
          "base_uri": "https://localhost:8080/",
          "height": 221
        },
        "id": "Mo_m-tNViUro",
        "outputId": "a84aa630-6b7a-44cf-d75d-43f3a0dd5cf8"
      },
      "execution_count": 5,
      "outputs": [
        {
          "output_type": "execute_result",
          "data": {
            "text/plain": [
              "<pyspark.sql.session.SparkSession at 0x7fc35cc630d0>"
            ],
            "text/html": [
              "\n",
              "            <div>\n",
              "                <p><b>SparkSession - in-memory</b></p>\n",
              "                \n",
              "        <div>\n",
              "            <p><b>SparkContext</b></p>\n",
              "\n",
              "            <p><a href=\"http://db5f6efbecfb:4040\">Spark UI</a></p>\n",
              "\n",
              "            <dl>\n",
              "              <dt>Version</dt>\n",
              "                <dd><code>v3.2.2</code></dd>\n",
              "              <dt>Master</dt>\n",
              "                <dd><code>local[*]</code></dd>\n",
              "              <dt>AppName</dt>\n",
              "                <dd><code>Modulo1_Datos_Grandes</code></dd>\n",
              "            </dl>\n",
              "        </div>\n",
              "        \n",
              "            </div>\n",
              "        "
            ]
          },
          "metadata": {},
          "execution_count": 5
        }
      ]
    },
    {
      "cell_type": "markdown",
      "source": [
        "Sabiendo que se utlizara un archivo de datos el cual ya está limpio, pues se utilizó como información para la realziacion de un analisis en nuestro bloque anterior, es por eso que unicamente leeremos el archivo con nuestra sesion de spark 'spark session', el archivo que leeremos es un csv."
      ],
      "metadata": {
        "id": "DurgTWrIlY3F"
      }
    },
    {
      "cell_type": "code",
      "source": [
        "df_spark = spark_session.read.csv('telcom_numeric.csv')\n",
        "df_spark\n",
        "\n",
        "# podemos asegurarnos de que no haya datos NaN, a traves del siguiente proceso, sin emabrgo, como se mencionó antiormente, el archivo deberia estar limpio para poder trabajar con este. \n",
        "df_spark = df_spark.na.drop(\"all\")"
      ],
      "metadata": {
        "id": "5AwRIpPgj6rN"
      },
      "execution_count": 6,
      "outputs": []
    },
    {
      "cell_type": "code",
      "source": [
        "df_spark.show()"
      ],
      "metadata": {
        "colab": {
          "base_uri": "https://localhost:8080/"
        },
        "id": "b0wZkUf1m2jq",
        "outputId": "e291c7a0-4b54-49ee-8180-2fe87c60355f"
      },
      "execution_count": 7,
      "outputs": [
        {
          "output_type": "stream",
          "name": "stdout",
          "text": [
            "+----+------+-----------+------------+------------------+------------------+--------------------+------------------+-------------+--------------+-----------+------------------+--------------------+--------------------+--------------------+--------------------+------------------+--------------------+-----------------+-------------+-------------+----------+------------+--------------------+---------------+------+--------------------+-----------------+\n",
            "| _c0|   _c1|        _c2|         _c3|               _c4|               _c5|                 _c6|               _c7|          _c8|           _c9|       _c10|              _c11|                _c12|                _c13|                _c14|                _c15|              _c16|                _c17|             _c18|         _c19|         _c20|      _c21|        _c22|                _c23|           _c24|  _c25|                _c26|             _c27|\n",
            "+----+------+-----------+------------+------------------+------------------+--------------------+------------------+-------------+--------------+-----------+------------------+--------------------+--------------------+--------------------+--------------------+------------------+--------------------+-----------------+-------------+-------------+----------+------------+--------------------+---------------+------+--------------------+-----------------+\n",
            "|null|TARGET|YEAR_JOINED|CURRENT_YEAR|       BILL_AMOUNT|       PAID_AMOUNT|PAYMENT_TRANSACTIONS|         PARTY_REV|PREPAID_LINES|POSTPAID_LINES|OTHER_LINES|          LINE_REV|MOUS_TO_LOCAL_MOB...|MOUS_FROM_LOCAL_M...|MOUS_TO_LOCAL_LAN...|MOUS_FROM_LOCAL_L...|MOUS_TO_INT_NUMBER|MOUS_FROM_INT_NUMBER|     DATA_IN_BNDL|DATA_OUT_BNDL|DATA_USG_PAYG|COMPLAINTS|Years_stayed|PTY_PROFILE_SUB_TYPE|PARTY_GENDER_CD|STATUS|SOCIO_ECONOMIC_SE...|PARTY_NATIONALITY|\n",
            "|   0|     0|       1994|        2019| 931.2089381866666| 812.1749999999998|                   1| 5968.700000000001|            2|             6|          2|            945.04|             1004.07|               35.85|              34.015|              72.075|            141.84|              56.115| 11944.0791015625|          0.0|          0.0|         0|          25|                   2|              1|     0|                   0|              179|\n",
            "|   1|     0|       1994|        2019| 431.0826183133333|             486.5|                   1| 6245.141666666666|            6|             4|          2|           493.815|              159.05|              10.595|               7.715|               11.75| 5.109999999999999|                 0.0| 9903.15771484375|          0.0|          0.0|         0|          25|                   1|              1|     0|                   0|              179|\n",
            "|   2|     0|       1994|        2019|50.619643642166665|            52.815|                   1|1666.4883333333337|            2|             3|          1|              50.3|                 0.0|                 0.0|                 0.0|                 0.0|               0.0|                 0.0|     0.1025390625|          0.0|          0.0|         0|          25|                   2|              1|     0|                   0|              179|\n",
            "|   3|     0|       1994|        2019|      399.71003444|           422.235|                   1| 2522.008333333333|            3|             4|          3| 406.5866666666666|             288.805|               158.5|                2.67|              15.965|               0.0|                 0.0|   3600.322265625|          0.0|          0.0|         0|          25|                   1|              1|     0|                   0|              179|\n",
            "|   4|     0|       1994|        2019| 612.6658442616666| 825.8883333333333|                   1|1219.9616666666666|            0|             2|          1| 751.1850000000001|              209.76|              186.05|              17.515|              28.685|3.2350000000000003|               4.475|  3852.0263671875|          0.0|          0.0|         0|          25|                   2|              1|     0|                   0|              179|\n",
            "|   5|     0|       1994|        2019|     45.1871440805| 41.10666666666666|                   1|481.02333333333326|            1|             3|          1|              45.1|                 0.0|                 0.0|                 0.0|                 0.0|               0.0|                 0.0|              0.0|          0.0|          0.0|         0|          25|                   2|              1|     0|                   0|              179|\n",
            "|   6|     0|       1994|        2019|     979.851059065|1090.2166666666665|                   1|1569.4683333333332|            0|             3|          1|1089.4816666666666|             551.905|              23.925|               46.31|              87.015| 367.0750000000001|              59.575|15812.12060546875|          0.0|          0.0|         0|          25|                   1|              1|     0|                   1|               98|\n",
            "|   7|     0|       1994|        2019| 521.7158063633334| 574.4516666666667|                   1| 2657.863333333333|            2|             3|          1| 552.1716666666666|             758.825|              438.86|   87.86500000000001|               74.97|             47.89|               0.115|  8322.6689453125|          0.0|          0.0|         0|          25|                   2|              1|     0|                   0|              179|\n",
            "|   8|     0|       1994|        2019|      495.75487575|           550.285|                   1|2187.9166666666665|            2|             5|          2|           459.495|              592.52|              60.125|               34.16|               63.49|             5.055|              21.465|  1448.6279296875|          0.0|          0.0|         0|          25|                   1|              1|     0|                   0|              179|\n",
            "|   9|     0|       1994|        2019| 479.8397672850001| 506.3333333333333|                   1|1272.2383333333332|            2|             3|          1|           513.005|              234.85|               25.91|              34.585|              17.945|               0.0|                 0.0|  8288.7158203125|          0.0|          0.0|         0|          25|                   2|              1|     0|                   0|              179|\n",
            "|  10|     0|       1994|        2019|138.20324914333332|           122.235|                   1| 5491.433333333333|            0|             5|          1|           153.705|             239.185|              20.125|  16.134999999999998|                13.4|              0.85|                 0.0|  5195.3720703125|          0.0|          0.0|         0|          25|                   2|              1|     0|                   2|              179|\n",
            "|  11|     0|       1994|        2019|244.11823227333332|            295.51|                   1|            369.46|            1|             2|          0| 347.7283333333333|              164.82|               82.61|                6.72|                2.85| 69.82499999999999|                 0.0|  527.91552734375|          0.0|          0.0|         0|          25|                   2|              1|     0|                   1|               87|\n",
            "|  12|     0|       1994|        2019| 518.2488735133334| 575.9483333333334|                   2| 590.1683333333333|            0|             2|          0| 540.1683333333333|  180.08499999999998|  164.45499999999998|                9.95|               46.85|           457.045|              16.125|              0.0|          0.0|          0.0|         0|          25|                   2|              1|     0|                   1|               87|\n",
            "|  13|     0|       1994|        2019| 18.94334595933333|24.166666666666668|                   1| 4369.669999999999|            1|             5|          3|23.166666666666668|                 0.0|                 0.0|                 0.0|                 0.0|               0.0|                 0.0|              0.0|          0.0|          0.0|         0|          25|                   2|              1|     0|                   0|              179|\n",
            "|  14|     0|       1994|        2019| 909.3535828766666| 986.3616666666668|                   1|          2013.335|            0|             4|          0|1069.6416666666669|   752.8199999999999|             673.365|              34.125|   88.66999999999999|               0.0|                0.16|  2404.9833984375|          0.0|          0.0|         0|          25|                   1|              1|     0|                   0|              179|\n",
            "|  15|     0|       1994|        2019| 737.7731700483333| 577.8333333333334|                   1|           5174.58|            8|             4|          0| 520.7966666666667|              328.45|               16.54|              32.685|               15.81|             0.335|                 0.0|    3131.44921875|          0.0|          0.0|         0|          25|                   1|              1|     0|                   0|              179|\n",
            "|  16|     0|       1994|        2019| 270.9085367966667|            283.95|                   4| 2068.623333333333|            2|             3|          2|276.81333333333333|  357.33500000000004|              38.895|               34.02|                2.14|               0.0|                 0.0|     38.642578125|          0.0|          0.0|         0|          25|                   2|              1|     0|                   0|              179|\n",
            "|  17|     0|       1994|        2019| 266.5022617516667|            267.17|                   1| 623.2116666666667|            3|             1|          1|            245.78|              169.78|               8.055|                23.5|                9.32|             11.29|                2.39|    91.9853515625|          0.0|          0.0|         0|          25|                   2|              1|     0|                   0|              179|\n",
            "|  18|     0|       1994|        2019| 51.06204739583333| 66.66666666666667|                   1|5169.4800000000005|            7|            10|          2|              50.0|                 0.0|                 0.0|                 0.0|                 0.0|               0.0|                 0.0|              0.0|          0.0|          0.0|         0|          25|                   2|              1|     0|                   0|              179|\n",
            "+----+------+-----------+------------+------------------+------------------+--------------------+------------------+-------------+--------------+-----------+------------------+--------------------+--------------------+--------------------+--------------------+------------------+--------------------+-----------------+-------------+-------------+----------+------------+--------------------+---------------+------+--------------------+-----------------+\n",
            "only showing top 20 rows\n",
            "\n"
          ]
        }
      ]
    },
    {
      "cell_type": "markdown",
      "source": [
        "Tal y como se puede observar y tras haber visualizado los datos a traves de la funcion show(), observamos un problema. Basicamente la primera fila (el cual deberia ser el encabezado) se cuenta como una simple serie de registros, es decir como una serie de datos del mismo dataframe, cuando deberian ser el encabezado, se procedera a arreglar este problema."
      ],
      "metadata": {
        "id": "SJbZfyHRo089"
      }
    },
    {
      "cell_type": "markdown",
      "source": [
        "Para poder arreglar esta situacion que se menciona, volveremos a leer el archyivo csv, pero con la diferencia de que vamos a agregar una funcion para que podamos tomar el inicio del dataframe como el encabezado.\n",
        "\n",
        "Para eso utilizaremos option('header','true')"
      ],
      "metadata": {
        "id": "L2L3xImtqnjq"
      }
    },
    {
      "cell_type": "markdown",
      "source": [
        "Aqui se obtienen nombres de las columnas y sus tipos de datos de cada una de estas."
      ],
      "metadata": {
        "id": "Q7sgy8fAcvdD"
      }
    },
    {
      "cell_type": "code",
      "source": [
        "data_spark_header = spark_session.read.option('header','true').csv('telcom_numeric.csv')\n",
        "data_spark_header\n"
      ],
      "metadata": {
        "colab": {
          "base_uri": "https://localhost:8080/"
        },
        "id": "LpaJdq2moxGk",
        "outputId": "b035b698-3ecc-408b-ec85-d84294493a93"
      },
      "execution_count": 8,
      "outputs": [
        {
          "output_type": "execute_result",
          "data": {
            "text/plain": [
              "DataFrame[_c0: string, TARGET: string, YEAR_JOINED: string, CURRENT_YEAR: string, BILL_AMOUNT: string, PAID_AMOUNT: string, PAYMENT_TRANSACTIONS: string, PARTY_REV: string, PREPAID_LINES: string, POSTPAID_LINES: string, OTHER_LINES: string, LINE_REV: string, MOUS_TO_LOCAL_MOBILES: string, MOUS_FROM_LOCAL_MOBILES: string, MOUS_TO_LOCAL_LANDLINES: string, MOUS_FROM_LOCAL_LANDLINES: string, MOUS_TO_INT_NUMBER: string, MOUS_FROM_INT_NUMBER: string, DATA_IN_BNDL: string, DATA_OUT_BNDL: string, DATA_USG_PAYG: string, COMPLAINTS: string, Years_stayed: string, PTY_PROFILE_SUB_TYPE: string, PARTY_GENDER_CD: string, STATUS: string, SOCIO_ECONOMIC_SEGMENT: string, PARTY_NATIONALITY: string]"
            ]
          },
          "metadata": {},
          "execution_count": 8
        }
      ]
    },
    {
      "cell_type": "code",
      "source": [
        "data_spark_header = data_spark_header.na.drop(how=\"any\")\n",
        "data_spark_header"
      ],
      "metadata": {
        "colab": {
          "base_uri": "https://localhost:8080/"
        },
        "id": "tqGDEdTddKfQ",
        "outputId": "6b1fb915-b672-4716-8c92-ccd422cf3f6c"
      },
      "execution_count": 10,
      "outputs": [
        {
          "output_type": "execute_result",
          "data": {
            "text/plain": [
              "DataFrame[_c0: string, TARGET: string, YEAR_JOINED: string, CURRENT_YEAR: string, BILL_AMOUNT: string, PAID_AMOUNT: string, PAYMENT_TRANSACTIONS: string, PARTY_REV: string, PREPAID_LINES: string, POSTPAID_LINES: string, OTHER_LINES: string, LINE_REV: string, MOUS_TO_LOCAL_MOBILES: string, MOUS_FROM_LOCAL_MOBILES: string, MOUS_TO_LOCAL_LANDLINES: string, MOUS_FROM_LOCAL_LANDLINES: string, MOUS_TO_INT_NUMBER: string, MOUS_FROM_INT_NUMBER: string, DATA_IN_BNDL: string, DATA_OUT_BNDL: string, DATA_USG_PAYG: string, COMPLAINTS: string, Years_stayed: string, PTY_PROFILE_SUB_TYPE: string, PARTY_GENDER_CD: string, STATUS: string, SOCIO_ECONOMIC_SEGMENT: string, PARTY_NATIONALITY: string]"
            ]
          },
          "metadata": {},
          "execution_count": 10
        }
      ]
    },
    {
      "cell_type": "code",
      "source": [
        "data_spark_header.show()"
      ],
      "metadata": {
        "colab": {
          "base_uri": "https://localhost:8080/"
        },
        "id": "xT7WchgnrNqn",
        "outputId": "f6fb32ba-2623-4e7b-9af5-b1c38e72ccd0"
      },
      "execution_count": 11,
      "outputs": [
        {
          "output_type": "stream",
          "name": "stdout",
          "text": [
            "+---+------+-----------+------------+------------------+------------------+--------------------+------------------+-------------+--------------+-----------+------------------+---------------------+-----------------------+-----------------------+-------------------------+------------------+--------------------+-----------------+-------------+-------------+----------+------------+--------------------+---------------+------+----------------------+-----------------+\n",
            "|_c0|TARGET|YEAR_JOINED|CURRENT_YEAR|       BILL_AMOUNT|       PAID_AMOUNT|PAYMENT_TRANSACTIONS|         PARTY_REV|PREPAID_LINES|POSTPAID_LINES|OTHER_LINES|          LINE_REV|MOUS_TO_LOCAL_MOBILES|MOUS_FROM_LOCAL_MOBILES|MOUS_TO_LOCAL_LANDLINES|MOUS_FROM_LOCAL_LANDLINES|MOUS_TO_INT_NUMBER|MOUS_FROM_INT_NUMBER|     DATA_IN_BNDL|DATA_OUT_BNDL|DATA_USG_PAYG|COMPLAINTS|Years_stayed|PTY_PROFILE_SUB_TYPE|PARTY_GENDER_CD|STATUS|SOCIO_ECONOMIC_SEGMENT|PARTY_NATIONALITY|\n",
            "+---+------+-----------+------------+------------------+------------------+--------------------+------------------+-------------+--------------+-----------+------------------+---------------------+-----------------------+-----------------------+-------------------------+------------------+--------------------+-----------------+-------------+-------------+----------+------------+--------------------+---------------+------+----------------------+-----------------+\n",
            "|  0|     0|       1994|        2019| 931.2089381866666| 812.1749999999998|                   1| 5968.700000000001|            2|             6|          2|            945.04|              1004.07|                  35.85|                 34.015|                   72.075|            141.84|              56.115| 11944.0791015625|          0.0|          0.0|         0|          25|                   2|              1|     0|                     0|              179|\n",
            "|  1|     0|       1994|        2019| 431.0826183133333|             486.5|                   1| 6245.141666666666|            6|             4|          2|           493.815|               159.05|                 10.595|                  7.715|                    11.75| 5.109999999999999|                 0.0| 9903.15771484375|          0.0|          0.0|         0|          25|                   1|              1|     0|                     0|              179|\n",
            "|  2|     0|       1994|        2019|50.619643642166665|            52.815|                   1|1666.4883333333337|            2|             3|          1|              50.3|                  0.0|                    0.0|                    0.0|                      0.0|               0.0|                 0.0|     0.1025390625|          0.0|          0.0|         0|          25|                   2|              1|     0|                     0|              179|\n",
            "|  3|     0|       1994|        2019|      399.71003444|           422.235|                   1| 2522.008333333333|            3|             4|          3| 406.5866666666666|              288.805|                  158.5|                   2.67|                   15.965|               0.0|                 0.0|   3600.322265625|          0.0|          0.0|         0|          25|                   1|              1|     0|                     0|              179|\n",
            "|  4|     0|       1994|        2019| 612.6658442616666| 825.8883333333333|                   1|1219.9616666666666|            0|             2|          1| 751.1850000000001|               209.76|                 186.05|                 17.515|                   28.685|3.2350000000000003|               4.475|  3852.0263671875|          0.0|          0.0|         0|          25|                   2|              1|     0|                     0|              179|\n",
            "|  5|     0|       1994|        2019|     45.1871440805| 41.10666666666666|                   1|481.02333333333326|            1|             3|          1|              45.1|                  0.0|                    0.0|                    0.0|                      0.0|               0.0|                 0.0|              0.0|          0.0|          0.0|         0|          25|                   2|              1|     0|                     0|              179|\n",
            "|  6|     0|       1994|        2019|     979.851059065|1090.2166666666665|                   1|1569.4683333333332|            0|             3|          1|1089.4816666666666|              551.905|                 23.925|                  46.31|                   87.015| 367.0750000000001|              59.575|15812.12060546875|          0.0|          0.0|         0|          25|                   1|              1|     0|                     1|               98|\n",
            "|  7|     0|       1994|        2019| 521.7158063633334| 574.4516666666667|                   1| 2657.863333333333|            2|             3|          1| 552.1716666666666|              758.825|                 438.86|      87.86500000000001|                    74.97|             47.89|               0.115|  8322.6689453125|          0.0|          0.0|         0|          25|                   2|              1|     0|                     0|              179|\n",
            "|  8|     0|       1994|        2019|      495.75487575|           550.285|                   1|2187.9166666666665|            2|             5|          2|           459.495|               592.52|                 60.125|                  34.16|                    63.49|             5.055|              21.465|  1448.6279296875|          0.0|          0.0|         0|          25|                   1|              1|     0|                     0|              179|\n",
            "|  9|     0|       1994|        2019| 479.8397672850001| 506.3333333333333|                   1|1272.2383333333332|            2|             3|          1|           513.005|               234.85|                  25.91|                 34.585|                   17.945|               0.0|                 0.0|  8288.7158203125|          0.0|          0.0|         0|          25|                   2|              1|     0|                     0|              179|\n",
            "| 10|     0|       1994|        2019|138.20324914333332|           122.235|                   1| 5491.433333333333|            0|             5|          1|           153.705|              239.185|                 20.125|     16.134999999999998|                     13.4|              0.85|                 0.0|  5195.3720703125|          0.0|          0.0|         0|          25|                   2|              1|     0|                     2|              179|\n",
            "| 11|     0|       1994|        2019|244.11823227333332|            295.51|                   1|            369.46|            1|             2|          0| 347.7283333333333|               164.82|                  82.61|                   6.72|                     2.85| 69.82499999999999|                 0.0|  527.91552734375|          0.0|          0.0|         0|          25|                   2|              1|     0|                     1|               87|\n",
            "| 12|     0|       1994|        2019| 518.2488735133334| 575.9483333333334|                   2| 590.1683333333333|            0|             2|          0| 540.1683333333333|   180.08499999999998|     164.45499999999998|                   9.95|                    46.85|           457.045|              16.125|              0.0|          0.0|          0.0|         0|          25|                   2|              1|     0|                     1|               87|\n",
            "| 13|     0|       1994|        2019| 18.94334595933333|24.166666666666668|                   1| 4369.669999999999|            1|             5|          3|23.166666666666668|                  0.0|                    0.0|                    0.0|                      0.0|               0.0|                 0.0|              0.0|          0.0|          0.0|         0|          25|                   2|              1|     0|                     0|              179|\n",
            "| 14|     0|       1994|        2019| 909.3535828766666| 986.3616666666668|                   1|          2013.335|            0|             4|          0|1069.6416666666669|    752.8199999999999|                673.365|                 34.125|        88.66999999999999|               0.0|                0.16|  2404.9833984375|          0.0|          0.0|         0|          25|                   1|              1|     0|                     0|              179|\n",
            "| 15|     0|       1994|        2019| 737.7731700483333| 577.8333333333334|                   1|           5174.58|            8|             4|          0| 520.7966666666667|               328.45|                  16.54|                 32.685|                    15.81|             0.335|                 0.0|    3131.44921875|          0.0|          0.0|         0|          25|                   1|              1|     0|                     0|              179|\n",
            "| 16|     0|       1994|        2019| 270.9085367966667|            283.95|                   4| 2068.623333333333|            2|             3|          2|276.81333333333333|   357.33500000000004|                 38.895|                  34.02|                     2.14|               0.0|                 0.0|     38.642578125|          0.0|          0.0|         0|          25|                   2|              1|     0|                     0|              179|\n",
            "| 17|     0|       1994|        2019| 266.5022617516667|            267.17|                   1| 623.2116666666667|            3|             1|          1|            245.78|               169.78|                  8.055|                   23.5|                     9.32|             11.29|                2.39|    91.9853515625|          0.0|          0.0|         0|          25|                   2|              1|     0|                     0|              179|\n",
            "| 18|     0|       1994|        2019| 51.06204739583333| 66.66666666666667|                   1|5169.4800000000005|            7|            10|          2|              50.0|                  0.0|                    0.0|                    0.0|                      0.0|               0.0|                 0.0|              0.0|          0.0|          0.0|         0|          25|                   2|              1|     0|                     0|              179|\n",
            "| 19|     0|       1994|        2019| 93.02646267133332|114.48333333333332|                   1|3324.7183333333337|            6|             3|          2|117.78833333333334|              170.385|                  67.21|                   9.14|                     2.48|             0.185|                 0.0|          94.6875|          0.0|          0.0|         0|          25|                   2|              1|     5|                     0|              179|\n",
            "+---+------+-----------+------------+------------------+------------------+--------------------+------------------+-------------+--------------+-----------+------------------+---------------------+-----------------------+-----------------------+-------------------------+------------------+--------------------+-----------------+-------------+-------------+----------+------------+--------------------+---------------+------+----------------------+-----------------+\n",
            "only showing top 20 rows\n",
            "\n"
          ]
        }
      ]
    },
    {
      "cell_type": "markdown",
      "source": [
        "Como podemos observar, en el anterior dataframe, el problema con el header esta solucionado, sin embargo, este archivo ha sido leido por Spark, de tal manera que los datos son todos de tipo string, por lo que nuevamente tendremos que ajustar esto para poder trabajar y vizualizar los datos. \n",
        "\n",
        "Para esto usaremos la funcion de conversión y un ciclo for para poder iterar a traves de todas las columnas y filas de datos."
      ],
      "metadata": {
        "id": "hHrP-VR9tYIY"
      }
    },
    {
      "cell_type": "code",
      "source": [
        "#podemos realziar la comprobacion de que el actual dataset, esta compuesto de puros datos de tipo string\n",
        "\n",
        "data_spark_header.printSchema()"
      ],
      "metadata": {
        "colab": {
          "base_uri": "https://localhost:8080/"
        },
        "id": "7d0EvuQVrc5j",
        "outputId": "cc0926c5-449d-43db-9dad-0cb671afd182"
      },
      "execution_count": null,
      "outputs": [
        {
          "output_type": "stream",
          "name": "stdout",
          "text": [
            "root\n",
            " |-- _c0: string (nullable = true)\n",
            " |-- TARGET: string (nullable = true)\n",
            " |-- YEAR_JOINED: string (nullable = true)\n",
            " |-- CURRENT_YEAR: string (nullable = true)\n",
            " |-- BILL_AMOUNT: string (nullable = true)\n",
            " |-- PAID_AMOUNT: string (nullable = true)\n",
            " |-- PAYMENT_TRANSACTIONS: string (nullable = true)\n",
            " |-- PARTY_REV: string (nullable = true)\n",
            " |-- PREPAID_LINES: string (nullable = true)\n",
            " |-- POSTPAID_LINES: string (nullable = true)\n",
            " |-- OTHER_LINES: string (nullable = true)\n",
            " |-- LINE_REV: string (nullable = true)\n",
            " |-- MOUS_TO_LOCAL_MOBILES: string (nullable = true)\n",
            " |-- MOUS_FROM_LOCAL_MOBILES: string (nullable = true)\n",
            " |-- MOUS_TO_LOCAL_LANDLINES: string (nullable = true)\n",
            " |-- MOUS_FROM_LOCAL_LANDLINES: string (nullable = true)\n",
            " |-- MOUS_TO_INT_NUMBER: string (nullable = true)\n",
            " |-- MOUS_FROM_INT_NUMBER: string (nullable = true)\n",
            " |-- DATA_IN_BNDL: string (nullable = true)\n",
            " |-- DATA_OUT_BNDL: string (nullable = true)\n",
            " |-- DATA_USG_PAYG: string (nullable = true)\n",
            " |-- COMPLAINTS: string (nullable = true)\n",
            " |-- Years_stayed: string (nullable = true)\n",
            " |-- PTY_PROFILE_SUB_TYPE: string (nullable = true)\n",
            " |-- PARTY_GENDER_CD: string (nullable = true)\n",
            " |-- STATUS: string (nullable = true)\n",
            " |-- SOCIO_ECONOMIC_SEGMENT: string (nullable = true)\n",
            " |-- PARTY_NATIONALITY: string (nullable = true)\n",
            "\n"
          ]
        }
      ]
    },
    {
      "cell_type": "markdown",
      "source": [
        "Se realiza una conversion de datos de tipo string a float o int, dependiendo de la columna, esto se realiza debido a que Spark los considera como strings al momento de crear el frame inicial."
      ],
      "metadata": {
        "id": "NoTKALVtdWZw"
      }
    },
    {
      "cell_type": "code",
      "source": [
        "for column in data_spark_header.columns:\n",
        "  # excluimos aquellos datos que no estan en las columnas de ser convertidos en enteros.\n",
        "  if column not in [\"_c0\", \"TARGET\", \"YEAR_JOINED\", \"CURRENT_YEAR\", \"PAYMENT_TRANSACTIONS\", \"PREPAID_LINES\", \"POSTPAID_LINES\", \"OTHER_LINES\", \"COMPLAINTS\", \"PARTY_GENDER_CD\", \"STATUS\", \"SOCIO_ECONOMIC_SEGMENT\", \"PARTY_NATIONALITY\"]:\n",
        "    data_spark_header = data_spark_header.withColumn(column, col(column).cast(FloatType()))\n",
        "  else:\n",
        "    data_spark_header = data_spark_header.withColumn(column, col(column).cast(IntegerType()))\n",
        "\n",
        "\n",
        "#mostramos el df con la transormación realizada.\n",
        "data_spark_header.show()"
      ],
      "metadata": {
        "colab": {
          "base_uri": "https://localhost:8080/"
        },
        "id": "h3meR6iZwL5L",
        "outputId": "309ab12c-aa32-4487-9f9b-87f21e95c952"
      },
      "execution_count": 12,
      "outputs": [
        {
          "output_type": "stream",
          "name": "stdout",
          "text": [
            "+---+------+-----------+------------+-----------+-----------+--------------------+---------+-------------+--------------+-----------+---------+---------------------+-----------------------+-----------------------+-------------------------+------------------+--------------------+------------+-------------+-------------+----------+------------+--------------------+---------------+------+----------------------+-----------------+\n",
            "|_c0|TARGET|YEAR_JOINED|CURRENT_YEAR|BILL_AMOUNT|PAID_AMOUNT|PAYMENT_TRANSACTIONS|PARTY_REV|PREPAID_LINES|POSTPAID_LINES|OTHER_LINES| LINE_REV|MOUS_TO_LOCAL_MOBILES|MOUS_FROM_LOCAL_MOBILES|MOUS_TO_LOCAL_LANDLINES|MOUS_FROM_LOCAL_LANDLINES|MOUS_TO_INT_NUMBER|MOUS_FROM_INT_NUMBER|DATA_IN_BNDL|DATA_OUT_BNDL|DATA_USG_PAYG|COMPLAINTS|Years_stayed|PTY_PROFILE_SUB_TYPE|PARTY_GENDER_CD|STATUS|SOCIO_ECONOMIC_SEGMENT|PARTY_NATIONALITY|\n",
            "+---+------+-----------+------------+-----------+-----------+--------------------+---------+-------------+--------------+-----------+---------+---------------------+-----------------------+-----------------------+-------------------------+------------------+--------------------+------------+-------------+-------------+----------+------------+--------------------+---------------+------+----------------------+-----------------+\n",
            "|  0|     0|       1994|        2019|   931.2089|    812.175|                   1|   5968.7|            2|             6|          2|   945.04|              1004.07|                  35.85|                 34.015|                   72.075|            141.84|              56.115|   11944.079|          0.0|          0.0|         0|        25.0|                 2.0|              1|     0|                     0|              179|\n",
            "|  1|     0|       1994|        2019|   431.0826|      486.5|                   1|6245.1416|            6|             4|          2|  493.815|               159.05|                 10.595|                  7.715|                    11.75|              5.11|                 0.0|    9903.158|          0.0|          0.0|         0|        25.0|                 1.0|              1|     0|                     0|              179|\n",
            "|  2|     0|       1994|        2019|  50.619644|     52.815|                   1|1666.4883|            2|             3|          1|     50.3|                  0.0|                    0.0|                    0.0|                      0.0|               0.0|                 0.0|  0.10253906|          0.0|          0.0|         0|        25.0|                 2.0|              1|     0|                     0|              179|\n",
            "|  3|     0|       1994|        2019|  399.71002|    422.235|                   1|2522.0083|            3|             4|          3|406.58667|              288.805|                  158.5|                   2.67|                   15.965|               0.0|                 0.0|   3600.3223|          0.0|          0.0|         0|        25.0|                 1.0|              1|     0|                     0|              179|\n",
            "|  4|     0|       1994|        2019|  612.66583|   825.8883|                   1|1219.9617|            0|             2|          1|  751.185|               209.76|                 186.05|                 17.515|                   28.685|             3.235|               4.475|   3852.0264|          0.0|          0.0|         0|        25.0|                 2.0|              1|     0|                     0|              179|\n",
            "|  5|     0|       1994|        2019|  45.187145|  41.106667|                   1|481.02335|            1|             3|          1|     45.1|                  0.0|                    0.0|                    0.0|                      0.0|               0.0|                 0.0|         0.0|          0.0|          0.0|         0|        25.0|                 2.0|              1|     0|                     0|              179|\n",
            "|  6|     0|       1994|        2019|   979.8511|  1090.2167|                   1|1569.4684|            0|             3|          1|1089.4817|              551.905|                 23.925|                  46.31|                   87.015|           367.075|              59.575|   15812.121|          0.0|          0.0|         0|        25.0|                 1.0|              1|     0|                     1|               98|\n",
            "|  7|     0|       1994|        2019|   521.7158|  574.45166|                   1|2657.8633|            2|             3|          1| 552.1717|              758.825|                 438.86|                 87.865|                    74.97|             47.89|               0.115|    8322.669|          0.0|          0.0|         0|        25.0|                 2.0|              1|     0|                     0|              179|\n",
            "|  8|     0|       1994|        2019|  495.75488|    550.285|                   1|2187.9167|            2|             5|          2|  459.495|               592.52|                 60.125|                  34.16|                    63.49|             5.055|              21.465|   1448.6279|          0.0|          0.0|         0|        25.0|                 1.0|              1|     0|                     0|              179|\n",
            "|  9|     0|       1994|        2019|  479.83975|  506.33334|                   1|1272.2383|            2|             3|          1|  513.005|               234.85|                  25.91|                 34.585|                   17.945|               0.0|                 0.0|    8288.716|          0.0|          0.0|         0|        25.0|                 2.0|              1|     0|                     0|              179|\n",
            "| 10|     0|       1994|        2019|  138.20325|    122.235|                   1| 5491.433|            0|             5|          1|  153.705|              239.185|                 20.125|                 16.135|                     13.4|              0.85|                 0.0|    5195.372|          0.0|          0.0|         0|        25.0|                 2.0|              1|     0|                     2|              179|\n",
            "| 11|     0|       1994|        2019|  244.11823|     295.51|                   1|   369.46|            1|             2|          0|347.72833|               164.82|                  82.61|                   6.72|                     2.85|            69.825|                 0.0|    527.9155|          0.0|          0.0|         0|        25.0|                 2.0|              1|     0|                     1|               87|\n",
            "| 12|     0|       1994|        2019|   518.2489|   575.9483|                   2|590.16833|            0|             2|          0|540.16833|              180.085|                164.455|                   9.95|                    46.85|           457.045|              16.125|         0.0|          0.0|          0.0|         0|        25.0|                 2.0|              1|     0|                     1|               87|\n",
            "| 13|     0|       1994|        2019|  18.943346|  24.166666|                   1|  4369.67|            1|             5|          3|23.166666|                  0.0|                    0.0|                    0.0|                      0.0|               0.0|                 0.0|         0.0|          0.0|          0.0|         0|        25.0|                 2.0|              1|     0|                     0|              179|\n",
            "| 14|     0|       1994|        2019|   909.3536|   986.3617|                   1| 2013.335|            0|             4|          0|1069.6417|               752.82|                673.365|                 34.125|                    88.67|               0.0|                0.16|   2404.9834|          0.0|          0.0|         0|        25.0|                 1.0|              1|     0|                     0|              179|\n",
            "| 15|     0|       1994|        2019|   737.7732|   577.8333|                   1|  5174.58|            8|             4|          0| 520.7967|               328.45|                  16.54|                 32.685|                    15.81|             0.335|                 0.0|   3131.4492|          0.0|          0.0|         0|        25.0|                 1.0|              1|     0|                     0|              179|\n",
            "| 16|     0|       1994|        2019|  270.90854|     283.95|                   4|2068.6233|            2|             3|          2|276.81332|              357.335|                 38.895|                  34.02|                     2.14|               0.0|                 0.0|    38.64258|          0.0|          0.0|         0|        25.0|                 2.0|              1|     0|                     0|              179|\n",
            "| 17|     0|       1994|        2019|  266.50226|     267.17|                   1| 623.2117|            3|             1|          1|   245.78|               169.78|                  8.055|                   23.5|                     9.32|             11.29|                2.39|    91.98535|          0.0|          0.0|         0|        25.0|                 2.0|              1|     0|                     0|              179|\n",
            "| 18|     0|       1994|        2019|  51.062046|  66.666664|                   1|  5169.48|            7|            10|          2|     50.0|                  0.0|                    0.0|                    0.0|                      0.0|               0.0|                 0.0|         0.0|          0.0|          0.0|         0|        25.0|                 2.0|              1|     0|                     0|              179|\n",
            "| 19|     0|       1994|        2019|   93.02647|  114.48333|                   1|3324.7183|            6|             3|          2|117.78833|              170.385|                  67.21|                   9.14|                     2.48|             0.185|                 0.0|     94.6875|          0.0|          0.0|         0|        25.0|                 2.0|              1|     5|                     0|              179|\n",
            "+---+------+-----------+------------+-----------+-----------+--------------------+---------+-------------+--------------+-----------+---------+---------------------+-----------------------+-----------------------+-------------------------+------------------+--------------------+------------+-------------+-------------+----------+------------+--------------------+---------------+------+----------------------+-----------------+\n",
            "only showing top 20 rows\n",
            "\n"
          ]
        }
      ]
    },
    {
      "cell_type": "code",
      "source": [
        "data_spark_header.printSchema()"
      ],
      "metadata": {
        "colab": {
          "base_uri": "https://localhost:8080/"
        },
        "id": "mf3hiR5G1A-Y",
        "outputId": "3cbf76ef-bf25-4183-e2b6-b4fed90568e2"
      },
      "execution_count": 13,
      "outputs": [
        {
          "output_type": "stream",
          "name": "stdout",
          "text": [
            "root\n",
            " |-- _c0: integer (nullable = true)\n",
            " |-- TARGET: integer (nullable = true)\n",
            " |-- YEAR_JOINED: integer (nullable = true)\n",
            " |-- CURRENT_YEAR: integer (nullable = true)\n",
            " |-- BILL_AMOUNT: float (nullable = true)\n",
            " |-- PAID_AMOUNT: float (nullable = true)\n",
            " |-- PAYMENT_TRANSACTIONS: integer (nullable = true)\n",
            " |-- PARTY_REV: float (nullable = true)\n",
            " |-- PREPAID_LINES: integer (nullable = true)\n",
            " |-- POSTPAID_LINES: integer (nullable = true)\n",
            " |-- OTHER_LINES: integer (nullable = true)\n",
            " |-- LINE_REV: float (nullable = true)\n",
            " |-- MOUS_TO_LOCAL_MOBILES: float (nullable = true)\n",
            " |-- MOUS_FROM_LOCAL_MOBILES: float (nullable = true)\n",
            " |-- MOUS_TO_LOCAL_LANDLINES: float (nullable = true)\n",
            " |-- MOUS_FROM_LOCAL_LANDLINES: float (nullable = true)\n",
            " |-- MOUS_TO_INT_NUMBER: float (nullable = true)\n",
            " |-- MOUS_FROM_INT_NUMBER: float (nullable = true)\n",
            " |-- DATA_IN_BNDL: float (nullable = true)\n",
            " |-- DATA_OUT_BNDL: float (nullable = true)\n",
            " |-- DATA_USG_PAYG: float (nullable = true)\n",
            " |-- COMPLAINTS: integer (nullable = true)\n",
            " |-- Years_stayed: float (nullable = true)\n",
            " |-- PTY_PROFILE_SUB_TYPE: float (nullable = true)\n",
            " |-- PARTY_GENDER_CD: integer (nullable = true)\n",
            " |-- STATUS: integer (nullable = true)\n",
            " |-- SOCIO_ECONOMIC_SEGMENT: integer (nullable = true)\n",
            " |-- PARTY_NATIONALITY: integer (nullable = true)\n",
            "\n"
          ]
        }
      ]
    },
    {
      "cell_type": "markdown",
      "source": [
        "Podemos observar el cambio/transformacion realizada en el anteiror esquema de los datos, por lo que ahora podremos empezar a trabajar con los datos correspondientes."
      ],
      "metadata": {
        "id": "8tKMNBeW1UjK"
      }
    },
    {
      "cell_type": "markdown",
      "source": [
        "Debido a que para trabajar en Spark necesitamos una estuctura de datos diferente, en este caso seria un datagrame RDD. Para la realización de esto se usará una libreria de Milib y asi poder realziar nuestros modelos y predicciones."
      ],
      "metadata": {
        "id": "hAHJVycw2pRS"
      }
    },
    {
      "cell_type": "code",
      "source": [
        "rdd_spark = data_spark_header.rdd.map(lambda x: LabeledPoint(x[1], x[2:]))\n",
        "rdd_spark.take(5)"
      ],
      "metadata": {
        "colab": {
          "base_uri": "https://localhost:8080/"
        },
        "id": "HN1xkBbx1SrE",
        "outputId": "5d8e57d3-aa53-46dc-bff1-f2bce253f180"
      },
      "execution_count": 16,
      "outputs": [
        {
          "output_type": "execute_result",
          "data": {
            "text/plain": [
              "[LabeledPoint(0.0, [1994.0,2019.0,931.2089233398438,812.1749877929688,1.0,5968.7001953125,2.0,6.0,2.0,945.0399780273438,1004.0700073242188,35.849998474121094,34.01499938964844,72.07499694824219,141.83999633789062,56.1150016784668,11944.0791015625,0.0,0.0,0.0,25.0,2.0,1.0,0.0,0.0,179.0]),\n",
              " LabeledPoint(0.0, [1994.0,2019.0,431.0826110839844,486.5,1.0,6245.1416015625,6.0,4.0,2.0,493.81500244140625,159.0500030517578,10.595000267028809,7.715000152587891,11.75,5.110000133514404,0.0,9903.158203125,0.0,0.0,0.0,25.0,1.0,1.0,0.0,0.0,179.0]),\n",
              " LabeledPoint(0.0, [1994.0,2019.0,50.61964416503906,52.814998626708984,1.0,1666.48828125,2.0,3.0,1.0,50.29999923706055,0.0,0.0,0.0,0.0,0.0,0.0,0.1025390625,0.0,0.0,0.0,25.0,2.0,1.0,0.0,0.0,179.0]),\n",
              " LabeledPoint(0.0, [1994.0,2019.0,399.71002197265625,422.2349853515625,1.0,2522.00830078125,3.0,4.0,3.0,406.586669921875,288.80499267578125,158.5,2.6700000762939453,15.96500015258789,0.0,0.0,3600.322265625,0.0,0.0,0.0,25.0,1.0,1.0,0.0,0.0,179.0]),\n",
              " LabeledPoint(0.0, [1994.0,2019.0,612.6658325195312,825.8883056640625,1.0,1219.961669921875,0.0,2.0,1.0,751.1849975585938,209.75999450683594,186.0500030517578,17.514999389648438,28.684999465942383,3.234999895095825,4.474999904632568,3852.0263671875,0.0,0.0,0.0,25.0,2.0,1.0,0.0,0.0,179.0])]"
            ]
          },
          "metadata": {},
          "execution_count": 16
        }
      ]
    },
    {
      "cell_type": "markdown",
      "source": [
        "Ya teniendo listo mi rdd, se procede a realizar la separacion de los datos en train y test, con estos, podremos entrenar un modelo, y así poder realizar predicciones."
      ],
      "metadata": {
        "id": "rt203Cep4_9x"
      }
    },
    {
      "cell_type": "code",
      "source": [
        "(traingData, testData) = rdd_spark.randomSplit([0.7, 0.3])"
      ],
      "metadata": {
        "id": "yp2HIa-94EDH"
      },
      "execution_count": 18,
      "outputs": []
    },
    {
      "cell_type": "markdown",
      "source": [
        "Ahora, se procedera a realzar el modelo con una implementación de regresión logística con LBFGS, veremos si somos capaz de lograr obtener una prediccion de estos churns, los cuales nos indican si un cliente va a abandonar una empresa determinada dependiendo de las caracteristicas o por el otro lado, si se queda en la empresa. \n",
        "Normalmente esto es usado por aquellas empresas que quieren invertir en publicidad o ofertas especiales (marketing) al momento que alguno de sus clientes quieren abandonar la empresa.\n",
        "\n",
        "Empezaremos importando la libreria:\n",
        "\n"
      ],
      "metadata": {
        "id": "K1TvoMkp-b2F"
      }
    },
    {
      "cell_type": "code",
      "source": [
        "from pyspark.mllib.classification import LogisticRegressionWithLBFGS, LogisticRegressionModel"
      ],
      "metadata": {
        "id": "ltDpVfNcjFeQ"
      },
      "execution_count": 19,
      "outputs": []
    },
    {
      "cell_type": "markdown",
      "source": [
        "Entrenamos nuestro modelo con el train data..."
      ],
      "metadata": {
        "id": "g-wmlLQ-j_TR"
      }
    },
    {
      "cell_type": "code",
      "source": [
        "modelo = LogisticRegressionWithLBFGS.train(traingData)"
      ],
      "metadata": {
        "id": "Mwf36Ppf5-W6"
      },
      "execution_count": 20,
      "outputs": []
    },
    {
      "cell_type": "markdown",
      "source": [
        "Para poder validar este modelo se procede a realziar un calculo del error que hay para poder ver la presicion del modelo generado..."
      ],
      "metadata": {
        "id": "IZeX13JrAVKo"
      }
    },
    {
      "cell_type": "code",
      "source": [
        "#Se calcula el error de entrenamiento siendo de 5.2%\n",
        "\n",
        "predicciones = testData.map(lambda p: (p.label, modelo.predict(p.features)))\n",
        "\n",
        "\n",
        "trainErr = predicciones.filter(lambda lp: lp[0] != lp[1]).count() / float(testData.count())\n",
        "print(\"Training Error = \" + str(trainErr))\n"
      ],
      "metadata": {
        "colab": {
          "base_uri": "https://localhost:8080/"
        },
        "id": "noXy_WE5_5VQ",
        "outputId": "29b56bce-3fba-4fa1-f4aa-2edcb95e1c10"
      },
      "execution_count": 21,
      "outputs": [
        {
          "output_type": "stream",
          "name": "stdout",
          "text": [
            "Training Error = 0.05241330936828723\n"
          ]
        }
      ]
    },
    {
      "cell_type": "markdown",
      "source": [
        "Ahora se procede a caclular el intercepto del modelo, siendo de 0."
      ],
      "metadata": {
        "id": "3880see5lhkE"
      }
    },
    {
      "cell_type": "code",
      "source": [
        "print(\"Intercept = \", modelo.intercept)"
      ],
      "metadata": {
        "colab": {
          "base_uri": "https://localhost:8080/"
        },
        "id": "lTm-jeY6lgSk",
        "outputId": "5fab199f-95c7-474e-f32f-161a8f59996f"
      },
      "execution_count": 23,
      "outputs": [
        {
          "output_type": "stream",
          "name": "stdout",
          "text": [
            "Intercept =  0.0\n"
          ]
        }
      ]
    },
    {
      "cell_type": "code",
      "source": [
        "y_pred = modelo.predict(traingData)\n",
        "y_pred"
      ],
      "metadata": {
        "colab": {
          "base_uri": "https://localhost:8080/"
        },
        "id": "PbgZuQxHlvQ_",
        "outputId": "d4ee6be7-e1d5-4bc4-e60e-1d091122e5a3"
      },
      "execution_count": 25,
      "outputs": [
        {
          "output_type": "execute_result",
          "data": {
            "text/plain": [
              "PythonRDD[197] at RDD at PythonRDD.scala:53"
            ]
          },
          "metadata": {},
          "execution_count": 25
        }
      ]
    },
    {
      "cell_type": "code",
      "source": [
        "#en este caso tomamos 50 predicciones, como se observa, muchas de estas tienen el valor de 0\n",
        "predicciones.take(50)"
      ],
      "metadata": {
        "colab": {
          "base_uri": "https://localhost:8080/"
        },
        "id": "6ndrxm2RmOva",
        "outputId": "1f67627f-3b10-4fec-b165-dc139eb11584"
      },
      "execution_count": 26,
      "outputs": [
        {
          "output_type": "execute_result",
          "data": {
            "text/plain": [
              "[(0.0, 0),\n",
              " (0.0, 0),\n",
              " (0.0, 0),\n",
              " (0.0, 0),\n",
              " (0.0, 0),\n",
              " (0.0, 0),\n",
              " (0.0, 0),\n",
              " (0.0, 0),\n",
              " (0.0, 0),\n",
              " (0.0, 0),\n",
              " (0.0, 0),\n",
              " (0.0, 0),\n",
              " (0.0, 0),\n",
              " (0.0, 0),\n",
              " (0.0, 0),\n",
              " (0.0, 0),\n",
              " (0.0, 0),\n",
              " (0.0, 0),\n",
              " (0.0, 0),\n",
              " (0.0, 0),\n",
              " (0.0, 0),\n",
              " (0.0, 0),\n",
              " (0.0, 0),\n",
              " (0.0, 0),\n",
              " (0.0, 0),\n",
              " (0.0, 0),\n",
              " (0.0, 0),\n",
              " (0.0, 0),\n",
              " (0.0, 0),\n",
              " (0.0, 0),\n",
              " (0.0, 0),\n",
              " (0.0, 0),\n",
              " (0.0, 0),\n",
              " (0.0, 0),\n",
              " (0.0, 0),\n",
              " (0.0, 0),\n",
              " (0.0, 0),\n",
              " (0.0, 0),\n",
              " (0.0, 0),\n",
              " (0.0, 0),\n",
              " (0.0, 0),\n",
              " (0.0, 0),\n",
              " (0.0, 0),\n",
              " (0.0, 0),\n",
              " (0.0, 0),\n",
              " (0.0, 0),\n",
              " (0.0, 0),\n",
              " (0.0, 0),\n",
              " (0.0, 0),\n",
              " (0.0, 0)]"
            ]
          },
          "metadata": {},
          "execution_count": 26
        }
      ]
    },
    {
      "cell_type": "code",
      "source": [
        "#Realizamos un calculo con ayuda de ciclos para poder saber cuantos clientes de esta empresa existen con un pocisble churn y cuantas no.\n",
        "\n",
        "dui_churn= 0\n",
        "bu_churn= 0\n",
        "\n",
        "prediccionChurn = predicciones.collect()\n",
        "\n",
        "for row in prediccionChurn:\n",
        "  if row[0] == 0.0:\n",
        "    bu_churn = bu_churn + 1\n",
        "  else:\n",
        "    dui_churn = dui_churn + 1\n",
        "\n",
        "print(\"clientes con probabilidad de  churn: \", dui_churn)\n",
        "print(\"clientes con no probabilidad de  churn: \", bu_churn)\n"
      ],
      "metadata": {
        "colab": {
          "base_uri": "https://localhost:8080/"
        },
        "id": "fpzi5yB1mYO3",
        "outputId": "3d52a5cd-d5e8-46d3-b211-762bc63fb456"
      },
      "execution_count": 27,
      "outputs": [
        {
          "output_type": "stream",
          "name": "stdout",
          "text": [
            "clientes con probabilidad de  churn:  18017\n",
            "clientes con no probabilidad de  churn:  324148\n"
          ]
        }
      ]
    },
    {
      "cell_type": "code",
      "source": [
        "#finalmente podemos evaluar el modelo a traves de pyspark.ml.evaluation :\n",
        "\n",
        "from pyspark.ml.evaluation import BinaryClassificationEvaluator\n"
      ],
      "metadata": {
        "id": "-dUxnAXqnVhD"
      },
      "execution_count": 28,
      "outputs": []
    },
    {
      "cell_type": "markdown",
      "source": [
        "Obtenemos un buen resultado de un .84 al momento de realziar la evalucaión, por lo que podemos decir que el modelo es confiable."
      ],
      "metadata": {
        "id": "XJExfSTln3Ge"
      }
    },
    {
      "cell_type": "code",
      "source": [
        "dataset = spark_session.createDataFrame(prediccionChurn, [\"raw\", \"label\"])\n",
        "evaluator = BinaryClassificationEvaluator()\n",
        "evaluator.setRawPredictionCol(\"raw\")\n",
        "evaluator.evaluate(dataset)"
      ],
      "metadata": {
        "colab": {
          "base_uri": "https://localhost:8080/"
        },
        "id": "LG1GVYtUnoMV",
        "outputId": "7b308a41-e167-460b-a820-19589e4b4d32"
      },
      "execution_count": 29,
      "outputs": [
        {
          "output_type": "execute_result",
          "data": {
            "text/plain": [
              "0.8437880759675682"
            ]
          },
          "metadata": {},
          "execution_count": 29
        }
      ]
    }
  ]
}